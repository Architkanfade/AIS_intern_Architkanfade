{
 "cells": [
  {
   "cell_type": "code",
   "execution_count": 3,
   "id": "b6bbda8b-3962-45b6-b21b-00f23262af4b",
   "metadata": {},
   "outputs": [
    {
     "name": "stdout",
     "output_type": "stream",
     "text": [
      "10\n",
      "<class 'decimal.Decimal'>\n"
     ]
    }
   ],
   "source": [
    "# convert a integer to decimal \n",
    "import decimal\n",
    "integer =10 \n",
    "print (decimal.Decimal(integer))\n",
    "print(type(decimal.Decimal(integer)))"
   ]
  },
  {
   "cell_type": "code",
   "execution_count": 6,
   "id": "2550dc58-2cd0-437a-a2a4-5613f216dd67",
   "metadata": {},
   "outputs": [
    {
     "name": "stdout",
     "output_type": "stream",
     "text": [
      "1234\n",
      "<class 'decimal.Decimal'>\n"
     ]
    }
   ],
   "source": [
    "# convert a string to decimal \n",
    "import decimal\n",
    "string=\"1234\"\n",
    "print(decimal.Decimal(string))\n",
    "print(type(decimal.Decimal(string)))"
   ]
  },
  {
   "cell_type": "code",
   "execution_count": 7,
   "id": "599ce622-7047-4cd6-9e4b-85bd442aa182",
   "metadata": {},
   "outputs": [
    {
     "name": "stdout",
     "output_type": "stream",
     "text": [
      "gnimmargorP nohtyP\n"
     ]
    }
   ],
   "source": [
    "# reversing a string using extended slicing \n",
    "string=\"Python Programming\"\n",
    "print(string[::-1])\n"
   ]
  },
  {
   "cell_type": "code",
   "execution_count": 13,
   "id": "0ce48325-acdb-49ad-9ddd-a87a97dd1899",
   "metadata": {},
   "outputs": [
    {
     "name": "stdout",
     "output_type": "stream",
     "text": [
      "4\n"
     ]
    }
   ],
   "source": [
    "# counting vowel in a word \n",
    "word= \"python programing\"\n",
    "count=0\n",
    "vowel=['a','e','i','o','u']\n",
    "for char in word:\n",
    "    if char in vowel:\n",
    "        count+=1\n",
    "print(count)"
   ]
  },
  {
   "cell_type": "code",
   "execution_count": 16,
   "id": "3b960d04-60c4-4cd5-8cec-822b830b2d25",
   "metadata": {},
   "outputs": [
    {
     "name": "stdout",
     "output_type": "stream",
     "text": [
      "13\n"
     ]
    }
   ],
   "source": [
    "# counting conconents in a word\n",
    "count=0\n",
    "vowels=[\"a\",\"e\",\"i\",\"o\",\"u\"]\n",
    "word=\"python programing\"\n",
    "for char  in word:\n",
    "    if char not in vowel:\n",
    "        count+=1\n",
    "print(count)"
   ]
  },
  {
   "cell_type": "code",
   "execution_count": 17,
   "id": "974ee821-629e-45c4-930c-43ccc6e07ba0",
   "metadata": {},
   "outputs": [
    {
     "name": "stdout",
     "output_type": "stream",
     "text": [
      "2\n"
     ]
    }
   ],
   "source": [
    "# counting number of occurence in a word \n",
    "let=\"g\"\n",
    "count=0\n",
    "word=\"pyhton programing\"\n",
    "for char in word:\n",
    "    if char in let:\n",
    "        count+=1\n",
    "print(count)        "
   ]
  },
  {
   "cell_type": "code",
   "execution_count": 27,
   "id": "2493edb7-864d-422d-873b-5b41a827c89e",
   "metadata": {},
   "outputs": [
    {
     "name": "stdout",
     "output_type": "stream",
     "text": [
      "0\n",
      "1\n",
      "1\n",
      "2\n",
      "3\n",
      "5\n",
      "8\n",
      "13\n",
      "21\n",
      "34\n"
     ]
    }
   ],
   "source": [
    "# Write fibonacci series\n",
    "n=10\n",
    "a=0\n",
    "b=1\n",
    "print(a)\n",
    "print(b)\n",
    "for i in range (2,n):\n",
    "    c=a+b\n",
    "    a=b\n",
    "    b=c\n",
    "    print (c)    \n"
   ]
  },
  {
   "cell_type": "code",
   "execution_count": 17,
   "id": "acf57094-ba8e-424c-b654-731b0ad695f7",
   "metadata": {},
   "outputs": [
    {
     "name": "stdout",
     "output_type": "stream",
     "text": [
      "78\n"
     ]
    }
   ],
   "source": [
    "# find the maximun number from the list \n",
    "numberlist=[12, 3, 55, 23, 6, 78, 33, 4]\n",
    "max=numberlist[0]\n",
    "for number in numberlist:\n",
    "    if  max < number:\n",
    "        max = number\n",
    "print (max)\n",
    "#redo"
   ]
  },
  {
   "cell_type": "code",
   "execution_count": 13,
   "id": "9d7f205a-c796-494f-9197-45a066404aa4",
   "metadata": {},
   "outputs": [
    {
     "name": "stdout",
     "output_type": "stream",
     "text": [
      "6\n"
     ]
    }
   ],
   "source": [
    "# find the middle of th list \n",
    "listname = [12, 3, 55, 23, 6, 78, 33, 5]\n",
    "midelement=int(len(listname)/2 )\n",
    "print(listname [midelement])"
   ]
  },
  {
   "cell_type": "code",
   "execution_count": 19,
   "id": "fa99e61b-4d1a-40f5-b822-d0f3bd77e116",
   "metadata": {},
   "outputs": [
    {
     "name": "stdout",
     "output_type": "stream",
     "text": [
      "3\n"
     ]
    }
   ],
   "source": [
    "# find the min element in a list \n",
    "listname = [12, 3, 55, 23, 6, 78, 33, 5]\n",
    "min=listname[0]\n",
    "for numb in listname:\n",
    "    if min>numb:\n",
    "        min=numb\n",
    "print(min)\n"
   ]
  },
  {
   "cell_type": "code",
   "execution_count": 22,
   "id": "15fcd5a9-ade4-496d-b9d7-a7a96c9f4eae",
   "metadata": {},
   "outputs": [
    {
     "name": "stdout",
     "output_type": "stream",
     "text": [
      "PYTHON\n"
     ]
    }
   ],
   "source": [
    "# convet the list to string in python \n",
    "list=[\"P\",\"Y\",\"T\",\"H\",\"O\",\"N\"]\n",
    "string=\"\".join(list)\n",
    "print (string)"
   ]
  },
  {
   "cell_type": "code",
   "execution_count": 27,
   "id": "46b0e1db-cfc9-4631-8f2b-93daaa77b152",
   "metadata": {},
   "outputs": [
    {
     "name": "stdout",
     "output_type": "stream",
     "text": [
      "[3, 4, 5, 7, 8, 9]\n",
      "[1, 2, 3, 4, 5, 6, 7, 8, 9]\n"
     ]
    }
   ],
   "source": [
    "# Add two list elements together \n",
    "list1=[1,2,3,4,5]\n",
    "list2=[6,7,8,9]\n",
    "a=list1+list2\n",
    "c=list1[2:]+list2[1:]\n",
    "print(c)\n",
    "print(a)"
   ]
  },
  {
   "cell_type": "code",
   "execution_count": 46,
   "id": "86a68337-14e3-4a49-b537-deeadfa84bbc",
   "metadata": {},
   "outputs": [
    {
     "name": "stdout",
     "output_type": "stream",
     "text": [
      "True\n"
     ]
    }
   ],
   "source": [
    "# compare two string for Anagrams \n",
    "string1=\"Listen\"\n",
    "string2=\"Silent\"\n",
    "\n",
    "string1= string1.replace(\" \",\"\").upper()\n",
    "string2=string2.replace(\" \",\"\").upper()\n",
    "# print(string1)\n",
    "# print(string2)\n",
    "if sorted(string1)==sorted(string2):\n",
    "    print (\"True\")\n",
    "else:\n",
    "    print(\"False\")\n",
    "\n"
   ]
  },
  {
   "cell_type": "code",
   "execution_count": 34,
   "id": "9617ac49-6659-42c7-bbf4-5f6ab7fe5ce1",
   "metadata": {},
   "outputs": [
    {
     "name": "stdout",
     "output_type": "stream",
     "text": [
      "['L', 'e', 'i', 'n', 's', 't']\n"
     ]
    }
   ],
   "source": [
    "# Random code\n",
    "string1=\"Listen\"\n",
    "a=sorted(string1)\n",
    "print(a)\n",
    "\n"
   ]
  },
  {
   "cell_type": "code",
   "execution_count": 9,
   "id": "b7de69b4-b011-4f6b-8e69-eb0bcc2c9dea",
   "metadata": {},
   "outputs": [
    {
     "name": "stdout",
     "output_type": "stream",
     "text": [
      "palendrom\n"
     ]
    }
   ],
   "source": [
    "# check for palendrom using slicing using extende slicing \n",
    "word= \"kanak\"\n",
    "if word ==word[::-1]:\n",
    "    print (\"palendrom\")\n",
    "else :\n",
    "    print(\"not\")"
   ]
  },
  {
   "cell_type": "code",
   "execution_count": 10,
   "id": "a99d7986-67c8-4e08-bc74-4d71cceed1d4",
   "metadata": {},
   "outputs": [
    {
     "name": "stdout",
     "output_type": "stream",
     "text": [
      "10\n"
     ]
    }
   ],
   "source": [
    "# Count the white space in the string\n",
    "string=\"Pro g  r  am    i ng\"\n",
    "count=0\n",
    "for space in string:\n",
    "    if space == \" \":\n",
    "        count+=1\n",
    "print (count)         \n",
    "     "
   ]
  },
  {
   "cell_type": "code",
   "execution_count": 11,
   "id": "a4ac9f64-1536-49b0-9e95-aaef6c02139f",
   "metadata": {},
   "outputs": [
    {
     "name": "stdout",
     "output_type": "stream",
     "text": [
      "10\n"
     ]
    }
   ],
   "source": [
    "# Count the white space in the string\n",
    "string=\"Pro g  r  am    i ng\"\n",
    "print(string.count(\" \"))\n"
   ]
  },
  {
   "cell_type": "code",
   "execution_count": 19,
   "id": "eeebc0a2-e39c-4a56-a2cd-45ffde5e6416",
   "metadata": {},
   "outputs": [
    {
     "name": "stdout",
     "output_type": "stream",
     "text": [
      "1\n",
      "8\n",
      "2\n"
     ]
    },
    {
     "name": "stderr",
     "output_type": "stream",
     "text": [
      "<>:11: SyntaxWarning: invalid escape sequence '\\s'\n",
      "<>:11: SyntaxWarning: invalid escape sequence '\\s'\n",
      "C:\\Users\\archi\\AppData\\Local\\Temp\\ipykernel_15884\\2314928499.py:11: SyntaxWarning: invalid escape sequence '\\s'\n",
      "  spaceCount = re.findall(\"[ \\s]\", name)\n"
     ]
    }
   ],
   "source": [
    "# #count digits , letters ,and spaces in a string \n",
    "# string=\"Python is 1\"\n",
    "# countd=0\n",
    "# countl=0\n",
    "# counts=0\n",
    "import re\n",
    "name='Python is 1'\n",
    "digitCount =re.sub(\"[^0-9]\", \"\", name)\n",
    "letterCount = re.sub(\"[^a-zA-Z]\", \"\", name)\n",
    "spaceCount = re.findall(\"[ \\s]\", name)\n",
    "print(len(digitCount))\n",
    "print(len(letterCount))\n",
    "print(len(spaceCount))   "
   ]
  },
  {
   "cell_type": "code",
   "execution_count": 20,
   "id": "d9a2dfbb-bad9-48c2-8c0d-8707dde1addd",
   "metadata": {},
   "outputs": [
    {
     "name": "stdout",
     "output_type": "stream",
     "text": [
      "4\n"
     ]
    },
    {
     "name": "stderr",
     "output_type": "stream",
     "text": [
      "<>:2: SyntaxWarning: invalid escape sequence '\\|'\n",
      "<>:2: SyntaxWarning: invalid escape sequence '\\|'\n",
      "C:\\Users\\archi\\AppData\\Local\\Temp\\ipykernel_13544\\3215046465.py:2: SyntaxWarning: invalid escape sequence '\\|'\n",
      "  char=\"/?>.,<;:]{\\|()*&^%$#@!\"\n"
     ]
    }
   ],
   "source": [
    "# count special charecter in a sting\n",
    "char=\"/?>.,<;:]{\\|()*&^%$#@!\"\n",
    "def specchar(string) :\n",
    "    count= 0\n",
    "    for i in string:\n",
    "        if i in char:\n",
    "            count+=1\n",
    "    print (count ) \n",
    "text='Hello! How are you?#Spechialchar!123'\n",
    "specchar(text)\n",
    "#  re do this one #done "
   ]
  },
  {
   "cell_type": "code",
   "execution_count": 18,
   "id": "e5dcf8c4-33c6-427d-9364-b2dcae714b7c",
   "metadata": {},
   "outputs": [
    {
     "name": "stdout",
     "output_type": "stream",
     "text": [
      "P Y T H ON\n",
      "PYTHON\n"
     ]
    }
   ],
   "source": [
    "# remove all white space from the string \n",
    "string=\"P Y T H O N\"\n",
    "string2=sring.replace(\" \",'')\n",
    "print (string)\n",
    "print (string2)"
   ]
  },
  {
   "cell_type": "code",
   "execution_count": 7,
   "id": "94a4cda2-a359-4e00-8ef2-5b659873fb1c",
   "metadata": {},
   "outputs": [
    {
     "name": "stdout",
     "output_type": "stream",
     "text": [
      "          *\n",
      "         ***\n",
      "        *****\n",
      "       *******\n",
      "      *********\n",
      "     ***********\n",
      "    *************\n",
      "   ***************\n",
      "  *****************\n",
      " *******************\n"
     ]
    }
   ],
   "source": [
    "# build a pyramid in prthon \n",
    "def pyr(n):\n",
    "    for i in range(n):\n",
    "        for j in range(i,n):\n",
    "            print(' ', end=\"\")\n",
    "        for j in range (i+1):\n",
    "            print(\"*\",end=\"\")\n",
    "        for j in range(i):\n",
    "            print(\"*\",end=\"\")\n",
    "        print(\"\")    \n",
    "    \n",
    "pyr(10)\n",
    "\n",
    "#red\n"
   ]
  },
  {
   "cell_type": "code",
   "execution_count": 38,
   "id": "e4fe5fb0-92b8-4ff5-b231-98e5bd1320c5",
   "metadata": {},
   "outputs": [
    {
     "name": "stdout",
     "output_type": "stream",
     "text": [
      "['Easy', 'Python', 'Is']\n"
     ]
    }
   ],
   "source": [
    "# randomize item in a list  \n",
    "from random import shuffle \n",
    "list=[\"Python\",\"Is\",\"Easy\"]\n",
    "shuffle(list)\n",
    "print (list)"
   ]
  },
  {
   "cell_type": "code",
   "execution_count": 60,
   "id": "5bf55e24-d147-4954-a61f-474582c70138",
   "metadata": {},
   "outputs": [
    {
     "name": "stdin",
     "output_type": "stream",
     "text": [
      "No of prime no required ? 20\n"
     ]
    },
    {
     "name": "stdout",
     "output_type": "stream",
     "text": [
      "2 3 5 7 11 13 17 19 23 29 31 37 41 43 47 53 59 61 67 71 "
     ]
    }
   ],
   "source": [
    "# create a genrator to produce first n prime numbers \n",
    "def prime (num):\n",
    "    for i in range (2,num):\n",
    "        if num%i==0:\n",
    "            return False \n",
    "    return True\n",
    "prime(3)\n",
    "\n",
    "def prime_genrator(n):\n",
    "    num=2\n",
    "    while n:\n",
    "        if prime(num):\n",
    "         yield num\n",
    "         n-=1\n",
    "        num+=1\n",
    "x=int(input(\"No of prime no required ?\"))\n",
    "it=prime_genrator(x)\n",
    "for e in it :\n",
    "    print(e,end=\" \")\n",
    "\n",
    "#redo \n"
   ]
  },
  {
   "cell_type": "code",
   "execution_count": 5,
   "id": "c6447cfe-1e4a-4c62-a3fb-4e9f30dfaf56",
   "metadata": {},
   "outputs": [
    {
     "name": "stdout",
     "output_type": "stream",
     "text": [
      "average is 2.0\n",
      "average is 6.0\n"
     ]
    }
   ],
   "source": [
    "# implement veriable length argument in python (for list)\n",
    "def average (*t):\n",
    "    avg=sum(t)/len(t)\n",
    "    return avg\n",
    "result1=average(2,2)\n",
    "result2=average(6,6)\n",
    "print(\"average is\" ,result1)\n",
    "print(\"average is\",result2)    "
   ]
  },
  {
   "cell_type": "code",
   "execution_count": 19,
   "id": "bb5bc780-b5e6-40bb-98a9-00ba9b40b3f0",
   "metadata": {},
   "outputs": [],
   "source": [
    "# implement veriable length argument in python (for dictionery)\n",
    "# def average_with_kwargs(**kwargs):\n",
    "#     values=list(kwargs.value())\n",
    "#     avg=sum(values)/len(values)\n",
    "#     return avg\n",
    "# a={value1=5, value2=10, value3=15, value4=20, value5=2}\n",
    "# b=(num1=32, num2=5, num3=65, num4=22, num5=87, num6=34}\n",
    "# result1= average_with_kwargs(**a)\n",
    "# result2= average_with_kwargs(**b)\n",
    "# print(f'Averageis : {result1:.2f}')\n",
    "# print(f'Averageis : {result1:.2f}')    \n",
    "\n",
    "\n",
    "\n",
    "# # re do \n"
   ]
  },
  {
   "cell_type": "code",
   "execution_count": 2,
   "id": "f730eec7-8656-4614-bda5-25fc50668b35",
   "metadata": {},
   "outputs": [
    {
     "name": "stdout",
     "output_type": "stream",
     "text": [
      "{'a': 5, 'b': 10, 'c': 15}\n",
      "{'a': 5}\n"
     ]
    }
   ],
   "source": [
    " # create instance  member veriable in python \n",
    "class test:\n",
    "    def __init__(self):\n",
    "        self.a= 5\n",
    "    def f1(self):\n",
    "        self.b=10\n",
    "t1=test()\n",
    "t2=test()\n",
    "t1.f1()\n",
    "t1.c=15\n",
    "print(t1.__dict__)\n",
    "print(t2.__dict__)\n",
    "\n",
    "#did not get it "
   ]
  },
  {
   "cell_type": "code",
   "execution_count": 1,
   "id": "b8446f21-6c82-446c-bade-9914fbfa7623",
   "metadata": {},
   "outputs": [
    {
     "name": "stdout",
     "output_type": "stream",
     "text": [
      "8\n"
     ]
    }
   ],
   "source": [
    "# addition using lambda function \n",
    "f= lambda a,b: a+b\n",
    "r=f(3,5)\n",
    "print(r)\n",
    "\n"
   ]
  },
  {
   "cell_type": "code",
   "execution_count": 4,
   "id": "c145df5d-4651-4821-bb5e-f5dda9579da8",
   "metadata": {},
   "outputs": [
    {
     "data": {
      "text/plain": [
       "120"
      ]
     },
     "execution_count": 4,
     "metadata": {},
     "output_type": "execute_result"
    }
   ],
   "source": [
    "# finding factorial using lamda function \n",
    "f=lambda n:1 if n==0 else n*f(n-1)\n",
    "f(5)"
   ]
  },
  {
   "cell_type": "code",
   "execution_count": 5,
   "id": "3b08ffa0-b183-4a26-84a5-e86b1d9c715b",
   "metadata": {},
   "outputs": [
    {
     "name": "stdout",
     "output_type": "stream",
     "text": [
      "['what', 'is', 'write', 'in', 'your', 'mind', 'is', 'write', 'in', 'your', 'world', '']\n",
      "what is write in your mind is write in your world \n"
     ]
    }
   ],
   "source": [
    "# what is the use of split andjoin function in strint \n",
    "s=\"what is write in your mind is write in your world \"\n",
    "s1=s.split(\" \")\n",
    "print (s1)\n",
    "s2=\" \".join(s1)\n",
    "# print(type(s1))\n",
    "print(s2)\n"
   ]
  },
  {
   "cell_type": "code",
   "execution_count": 9,
   "id": "32dfd55d-90b0-43b2-b0d7-05136ef90752",
   "metadata": {},
   "outputs": [
    {
     "name": "stdout",
     "output_type": "stream",
     "text": [
      "x=15 y=10\n",
      "15\n"
     ]
    }
   ],
   "source": [
    "x = 5 # global variable\n",
    "def f1():\n",
    "    global x\n",
    "    x=15 # global variable updated\n",
    "    y= 10 # Local variable\n",
    "    print(\"x=%d y=%d\"%(x,y))\n",
    "f1()\n",
    "print(x)"
   ]
  },
  {
   "cell_type": "code",
   "execution_count": 11,
   "id": "87e1860b-0a0e-4e3a-a5a7-c0bcf7c5c8f5",
   "metadata": {},
   "outputs": [
    {
     "name": "stdout",
     "output_type": "stream",
     "text": [
      "local x=10 global x=5\n"
     ]
    }
   ],
   "source": [
    "x=5\n",
    "def fun():\n",
    "    x=10\n",
    "    d=globals()#d['x'] 15 #x is the key in dictionary d which assigns value to global ve \n",
    "    print(\"local x=%d global x=%d\"%(x,d['x']))\n",
    "fun()"
   ]
  },
  {
   "cell_type": "code",
   "execution_count": 16,
   "id": "7291f282-0061-443b-95ce-06ba8a3d76fc",
   "metadata": {},
   "outputs": [
    {
     "name": "stdout",
     "output_type": "stream",
     "text": [
      "123\n",
      "123.45\n",
      "(3+2j)\n",
      "23\n",
      "True\n",
      "0b11001\n",
      "0o132\n",
      "0x19\n",
      "65\n",
      "b\n"
     ]
    }
   ],
   "source": [
    "# type conversion basics\n",
    "x=int(\"123\")\n",
    "a=float('123.45')\n",
    "b=complex('3+2j')\n",
    "c=str(23)\n",
    "d=bool(\"True\")\n",
    "e=bin(25)\n",
    "f=oct(90)\n",
    "g=hex(25)\n",
    "h=ord(\"A\")\n",
    "i=chr(98)\n",
    "print(x,a,b,c,d,e,f,g,h,i,#sep=\"\\n\")"
   ]
  },
  {
   "cell_type": "code",
   "execution_count": 28,
   "id": "13c813eb-f861-473e-b449-ece0cb3df694",
   "metadata": {},
   "outputs": [
    {
     "name": "stdout",
     "output_type": "stream",
     "text": [
      "<class 'int'>\n",
      "<class 'str'>\n",
      "5123\n",
      "128\n"
     ]
    }
   ],
   "source": [
    "\n",
    "# \n",
    "x=5\n",
    "\n",
    "print(type(x))\n",
    "s1='123'\n",
    "print(type(s1))\n",
    "print(str(x) + s1)\n",
    "print(x + int(s1))"
   ]
  },
  {
   "cell_type": "code",
   "execution_count": 31,
   "id": "f6a37158-4357-4033-a462-b0b21c33e71f",
   "metadata": {},
   "outputs": [
    {
     "name": "stdout",
     "output_type": "stream",
     "text": [
      "Before hello function\n",
      "Hello 1\n",
      "Thanks for using the function\n",
      "Before hello function\n",
      "4\n",
      "Thanks for using the function\n"
     ]
    }
   ],
   "source": [
    "def welcome (fx):\n",
    "    def mfx(*t,**d):\n",
    "        print(\"Before hello function\")\n",
    "        fx(*t,**d)\n",
    "        print(\"Thanks for using the function\")\n",
    "    return mfx\n",
    "\n",
    "@welcome\n",
    "def hello():\n",
    "    print(\"Hello 1\")\n",
    "#decorator function with arguments\n",
    "@welcome\n",
    "def add(a,b):\n",
    "    print(a+b)\n",
    "\n",
    "hello()\n",
    "add(1,3)"
   ]
  },
  {
   "cell_type": "code",
   "execution_count": 34,
   "id": "efaf1ce7-e468-451e-96ef-5788a589591d",
   "metadata": {},
   "outputs": [
    {
     "data": {
      "text/plain": [
       "900"
      ]
     },
     "execution_count": 34,
     "metadata": {},
     "output_type": "execute_result"
    }
   ],
   "source": [
    "class Calculator:\n",
    "    def __init__(self, func):\n",
    "        self.function = func\n",
    "        \n",
    "    def __call__(self, *t,**d):\n",
    "            result=self.function(*t,**d)\n",
    "            return result**2\n",
    "@Calculator\n",
    "def add(a,b):\n",
    "    return a+b\n",
    "#ad|d Calculator (add)\n",
    "add(10,20) #add._call_(a,b) since function type is callable"
   ]
  },
  {
   "cell_type": "code",
   "execution_count": 37,
   "id": "d76a528a-a605-4a79-b278-390cf03cad15",
   "metadata": {},
   "outputs": [
    {
     "name": "stdout",
     "output_type": "stream",
     "text": [
      "23\n",
      "65\n",
      "22\n",
      "76\n",
      "34\n",
      "98\n",
      "43\n"
     ]
    }
   ],
   "source": [
    "# what is itterators in python\n",
    "l1= [23,65,22,76,34,98,43]\n",
    "it =iter(l1)\n",
    "while True:\n",
    "    try:\n",
    "        # print(it)\n",
    "        print(next(it))\n",
    "    except StopIteration:\n",
    "        break"
   ]
  },
  {
   "cell_type": "code",
   "execution_count": 41,
   "id": "8f6f77bc-dc7a-4275-9718-3bcabf9e96d9",
   "metadata": {},
   "outputs": [
    {
     "name": "stdout",
     "output_type": "stream",
     "text": [
      "[2, 4, 6, 8, 10, 12, 14, 16, 18, 20]\n"
     ]
    }
   ],
   "source": [
    "# what  are genrators in python \n",
    "# create a genrator of n natural even  number \n",
    "def evenNum(n):\n",
    "    i=1\n",
    "    while n:\n",
    "        yield 2*i\n",
    "        i+=1\n",
    "        n-=1\n",
    "it= evenNum(10)\n",
    "even_list=[]\n",
    "while True:\n",
    "    try:\n",
    "        even_list.append(next(it))\n",
    "    except StopIteration:\n",
    "        break\n",
    "print(even_list)\n",
    "\n",
    "\n",
    "\n"
   ]
  },
  {
   "cell_type": "code",
   "execution_count": 5,
   "id": "2f2c1a25-f38c-4564-819a-69b3031158fc",
   "metadata": {},
   "outputs": [
    {
     "name": "stdout",
     "output_type": "stream",
     "text": [
      "Hello,archit!\n",
      "Hello,Bob,HI!\n"
     ]
    }
   ],
   "source": [
    "# 1 is function overloading allowed in python \n",
    "def greet(name, greeting=\"Hello\"):\n",
    "    \n",
    "     return f'{greeting},{name}!'\n",
    "print(greet(\"archit\"))\n",
    "print(greet(\"Bob,HI\"))"
   ]
  },
  {
   "cell_type": "code",
   "execution_count": 7,
   "id": "61cc2245-5a92-4566-bfcc-bb884165fe6c",
   "metadata": {},
   "outputs": [
    {
     "name": "stdout",
     "output_type": "stream",
     "text": [
      "3\n",
      "4\n"
     ]
    }
   ],
   "source": [
    "def add(*t):\n",
    "    return sum(t)\n",
    "print(add(1,2))\n",
    "print(add(2,2))"
   ]
  },
  {
   "cell_type": "code",
   "execution_count": 15,
   "id": "7dbe91f1-75b1-413e-8091-603fb0c97fd9",
   "metadata": {},
   "outputs": [
    {
     "name": "stdout",
     "output_type": "stream",
     "text": [
      "Processing an integer:10\n",
      "processing a string:hello\n"
     ]
    }
   ],
   "source": [
    "# using funtools.singledisp \n",
    "from functools import singledispatch\n",
    "@singledispatch\n",
    "def process(value):\n",
    "    raise NonImplementedError(\"Unsupported type\")\n",
    "@process.register(int)\n",
    "def _(value):\n",
    "   return f\"Processing an integer:{value}\"\n",
    "@process.register(str)\n",
    "def _ (value):\n",
    "    return f\"processing a string:{value}\"\n",
    "print(process(10))\n",
    "print(process(\"hello\"))\n",
    "    "
   ]
  },
  {
   "cell_type": "code",
   "execution_count": 25,
   "id": "735b7c6a-66aa-416b-8eb7-a3c1a1f526c4",
   "metadata": {},
   "outputs": [
    {
     "name": "stdout",
     "output_type": "stream",
     "text": [
      "2\n",
      "120\n"
     ]
    }
   ],
   "source": [
    "# class methods\n",
    "class maths:\n",
    "    @staticmethod\n",
    "    def multiply(a,b):\n",
    "        return a*b\n",
    "    @staticmethod\n",
    "    def multiply(a,b,c):\n",
    "        return a*b*c\n",
    "class math:\n",
    "        @staticmethod\n",
    "        def multiply(*t):\n",
    "            result=1\n",
    "            for num in t:\n",
    "                result *= num \n",
    "            return result\n",
    "print(math.multiply(1,2))\n",
    "print(math.multiply(2,3,5,4))"
   ]
  },
  {
   "cell_type": "code",
   "execution_count": 29,
   "id": "cb523bfd-1e2f-4943-a768-7bccf5839c55",
   "metadata": {},
   "outputs": [
    {
     "name": "stdout",
     "output_type": "stream",
     "text": [
      "a= 1 b= 4\n",
      "a= 14 b= 4\n",
      "a= 12 b= 4\n"
     ]
    }
   ],
   "source": [
    "# what are possitional arguments in python \n",
    "def f1(a,b):\n",
    "    print(\"a=\",a,\"b=\",b)\n",
    "f1(1,4)\n",
    "f1(14,4)\n",
    "f1(12,4)\n",
    "    \n",
    "\n",
    "    "
   ]
  },
  {
   "cell_type": "code",
   "execution_count": 34,
   "id": "e219915e-7ea5-407b-abbc-9383fb7eac0d",
   "metadata": {},
   "outputs": [
    {
     "name": "stdout",
     "output_type": "stream",
     "text": [
      "[32, 34, 64, 64, 78, 83, 88, 95]\n"
     ]
    },
    {
     "data": {
      "text/plain": [
       "list"
      ]
     },
     "execution_count": 34,
     "metadata": {},
     "output_type": "execute_result"
    }
   ],
   "source": [
    "# differnce between sorted and sort function in python \n",
    "t1=(34, 64, 32, 78, 88, 83, 95, 64)\n",
    "s_t1= sorted(t1)\n",
    "print(s_t1)\n",
    "type(s_t1)\n",
    "# type(t1)"
   ]
  },
  {
   "cell_type": "code",
   "execution_count": 42,
   "id": "231409c9-49b0-479b-b316-e930e3961bcb",
   "metadata": {},
   "outputs": [
    {
     "name": "stdout",
     "output_type": "stream",
     "text": [
      "<class 'list'>\n",
      "[32, 34, 64, 64, 78, 83, 88, 95]\n"
     ]
    }
   ],
   "source": [
    "# sort\n",
    "t1=[34, 64, 32, 78, 88, 83, 95, 64]\n",
    "t1.sort()\n",
    "print(type(t1))\n",
    "print(t1)"
   ]
  },
  {
   "cell_type": "code",
   "execution_count": 47,
   "id": "2ab4abd0-fb3d-4a7c-a2d6-b316f02c492b",
   "metadata": {},
   "outputs": [
    {
     "name": "stdout",
     "output_type": "stream",
     "text": [
      "1 2 3 4 5 "
     ]
    }
   ],
   "source": [
    "#how to use else with loop\n",
    "i=1\n",
    "while i<=10:\n",
    "    print(i,end=\" \")\n",
    "    if i==5:\n",
    "        break\n",
    "    i+=1\n",
    "else:\n",
    "    print(\"you are in else\")\n",
    "    "
   ]
  },
  {
   "cell_type": "code",
   "execution_count": 48,
   "id": "4d82a8b9-83c9-4a63-9d6c-ec7f1dec5365",
   "metadata": {},
   "outputs": [
    {
     "name": "stdout",
     "output_type": "stream",
     "text": [
      "10\n",
      "20\n"
     ]
    }
   ],
   "source": [
    "# what is name mingling in python\n",
    "class world:\n",
    "    x=10\n",
    "    __india=20\n",
    "print(world.x)\n",
    "print(world._world__india)"
   ]
  },
  {
   "cell_type": "code",
   "execution_count": 50,
   "id": "a750a026-6f2c-48c6-981f-a045a5c23b55",
   "metadata": {},
   "outputs": [
    {
     "name": "stdout",
     "output_type": "stream",
     "text": [
      "20\n",
      "4 5\n",
      "4\n",
      "5\n"
     ]
    }
   ],
   "source": [
    "# what is difference between class object and instant object \n",
    "class test:\n",
    "    x=20\n",
    "    def __init__(self,a,b):\n",
    "        self.a=a\n",
    "        self.b=b \n",
    "    def show(self):\n",
    "        print(self.a,self.b)\n",
    "print(test.x)\n",
    "t1=test(4,5)\n",
    "t1.show()\n",
    "\n",
    "print(t1.a)\n",
    "print(t1.b)"
   ]
  },
  {
   "cell_type": "code",
   "execution_count": 4,
   "id": "10a86bfd-514a-4be3-9fa8-56379319383d",
   "metadata": {},
   "outputs": [
    {
     "name": "stdout",
     "output_type": "stream",
     "text": [
      "10 20\n"
     ]
    }
   ],
   "source": [
    "# what is init method in python\n",
    "class test:\n",
    "    def __init__(self):\n",
    "        self.a=10\n",
    "        self.b=20\n",
    "t1 = test ()\n",
    "print(t1.a,t1.b)"
   ]
  },
  {
   "cell_type": "code",
   "execution_count": 5,
   "id": "487e93ff-e632-44cd-af7e-a69fe5760946",
   "metadata": {},
   "outputs": [
    {
     "name": "stdout",
     "output_type": "stream",
     "text": [
      "The addition is: 10\n"
     ]
    }
   ],
   "source": [
    "# what is default arguments in function \n",
    "def add (a,b,c=5):\n",
    "    return a+b+c\n",
    "s= add(2,3)\n",
    "print(\"The addition is:\",s)"
   ]
  },
  {
   "cell_type": "code",
   "execution_count": 8,
   "id": "c2397e11-8da2-411e-b550-3077790ed3a5",
   "metadata": {},
   "outputs": [
    {
     "name": "stdout",
     "output_type": "stream",
     "text": [
      "['abc', 34.56, 32, (3+4j), 'b', 55, 65.7, '90', 180]\n",
      "[32, 55, 180]\n"
     ]
    }
   ],
   "source": [
    "# extract ini type values from a list of  heterogeneous element?\n",
    "l1=['abc',34.56,32,3+4j,\"b\",55,65.7,'90',180]\n",
    "print(l1)\n",
    "l2=[]\n",
    "for e in l1 :\n",
    "    if type(e)==int:\n",
    "        l2.append(e)\n",
    "print(l2)"
   ]
  },
  {
   "cell_type": "code",
   "execution_count": 9,
   "id": "489831d7-7ec9-414d-a9b0-3ea0f8e901ca",
   "metadata": {},
   "outputs": [],
   "source": [
    "# does python support multiple inheritance ?\n",
    "class A1:\n",
    "    pass\n",
    "class A2:\n",
    "    pass\n",
    "class B(A1,A2):\n",
    "    pass"
   ]
  },
  {
   "cell_type": "code",
   "execution_count": 12,
   "id": "8abd5d70-ef54-413f-90e1-9f2bc1abc0d0",
   "metadata": {},
   "outputs": [
    {
     "name": "stdout",
     "output_type": "stream",
     "text": [
      "Before monkey packing\n",
      "\n",
      "send code to fetch data from database\n",
      "send code to fetch data from database\n",
      "\n",
      "After Monkey Patching\n",
      "\n",
      "some to code fetch data from test data\n",
      "some to code fetch data from test data\n"
     ]
    }
   ],
   "source": [
    "#what is monkey patching?\n",
    "class Test:\n",
    "    def __init__(self,x):\n",
    "        self.a= x\n",
    "    def get_data(self):\n",
    "        print('send code to fetch data from database')\n",
    "    def f1(self):\n",
    "        self.get_data()\n",
    "    def f2(self):\n",
    "        self.get_data()\n",
    "t1=Test(4)\n",
    "print(\"Before monkey packing\\n\")\n",
    "t1.f1()\n",
    "t1.f2()\n",
    "def get_new_data(self):\n",
    "    print(\"some to code fetch data from test data\")\n",
    "Test.get_data = get_new_data\n",
    "print(\"\\nAfter Monkey Patching\\n\")\n",
    "t1.f1()\n",
    "t1.f2()\n",
    "\n",
    "        \n",
    "    "
   ]
  },
  {
   "cell_type": "code",
   "execution_count": 15,
   "id": "516f70cd-5e3e-4e75-b124-11641336df4b",
   "metadata": {},
   "outputs": [
    {
     "name": "stdin",
     "output_type": "stream",
     "text": [
      "enter number 10\n"
     ]
    },
    {
     "name": "stdout",
     "output_type": "stream",
     "text": [
      "number is not prime\n"
     ]
    }
   ],
   "source": [
    "# accept a number  user check whether it is prine  or  not \n",
    "num=int(input('enter number'))\n",
    "for i in range(2,num):\n",
    "        if num%i==0:\n",
    "            print(\"number is not prime\")\n",
    "            break\n",
    "else:\n",
    "    print('number is prime ')\n",
    "\n",
    "    "
   ]
  },
  {
   "cell_type": "code",
   "execution_count": 18,
   "id": "e2b10114-0aed-4b04-b576-3a27610859d4",
   "metadata": {},
   "outputs": [
    {
     "name": "stdin",
     "output_type": "stream",
     "text": [
      "Enter a number: 324\n"
     ]
    },
    {
     "name": "stdout",
     "output_type": "stream",
     "text": [
      "Entered number 324 is even\n"
     ]
    }
   ],
   "source": [
    "# write a program to print a program to print the given number is odd or even\n",
    "num =int(input(\"Enter a number:\"))\n",
    "if num%2==0:\n",
    "    print(f\"Entered number {num} is even\")\n",
    "else:\n",
    "    print(f\"Entered number {num} is odd\")\n",
    "    "
   ]
  },
  {
   "cell_type": "code",
   "execution_count": 21,
   "id": "37b6d1ad-3c55-4c17-b985-d9763ac2cfe4",
   "metadata": {},
   "outputs": [
    {
     "name": "stdin",
     "output_type": "stream",
     "text": [
      "enter the number: 213\n"
     ]
    },
    {
     "name": "stdout",
     "output_type": "stream",
     "text": [
      "number is possitive\n"
     ]
    }
   ],
   "source": [
    "# write a program to find the given number is  possitive or   negative \n",
    "num= float(input(\"enter the number:\"))\n",
    "if num>0:\n",
    "    print(\"number is possitive\")\n",
    "elif num==0:\n",
    "    print(\"number is zero\")\n",
    "else:\n",
    "    print(\"number is negative \")"
   ]
  },
  {
   "cell_type": "code",
   "execution_count": 23,
   "id": "077491a2-6e9f-4135-bd99-4c2f3dfc72bd",
   "metadata": {},
   "outputs": [
    {
     "name": "stdin",
     "output_type": "stream",
     "text": [
      "what is number 1: 3\n",
      "what is number 2: 2\n"
     ]
    },
    {
     "name": "stdout",
     "output_type": "stream",
     "text": [
      "sum= 5\n"
     ]
    }
   ],
   "source": [
    "# write a program to find the sum of 2 numbers \n",
    "a=int(input(\"what is number 1:\"))\n",
    "b=int(input(\"what is number 2:\"))\n",
    "c=a+b\n",
    "print(\"sum=\",c)"
   ]
  },
  {
   "cell_type": "code",
   "execution_count": 1,
   "id": "867e8195-8995-4367-9270-e7edb8c76624",
   "metadata": {},
   "outputs": [
    {
     "name": "stdin",
     "output_type": "stream",
     "text": [
      "enter first number  235\n",
      "enter second number  875\n"
     ]
    },
    {
     "data": {
      "text/plain": [
       "5"
      ]
     },
     "execution_count": 1,
     "metadata": {},
     "output_type": "execute_result"
    }
   ],
   "source": [
    "# write a program to find a GCD of two numbers \n",
    "num1=int(input(\"enter first number \"))\n",
    "num2=int(input(\"enter second number \"))\n",
    "def gdc(a,b):\n",
    "    if a==0 or a==b:\n",
    "        return b\n",
    "    elif b==0:\n",
    "        return b\n",
    "    elif a>b:\n",
    "        return gdc(a-b,b)\n",
    "    return gdc(a,b-a)\n",
    "\n",
    "gdc(num1 ,num2 )\n",
    "    "
   ]
  },
  {
   "cell_type": "code",
   "execution_count": 2,
   "id": "fd9eaf00-78bf-4be2-bfc1-03915e389a5e",
   "metadata": {},
   "outputs": [
    {
     "name": "stdin",
     "output_type": "stream",
     "text": [
      "enter a number 20\n"
     ]
    },
    {
     "name": "stdout",
     "output_type": "stream",
     "text": [
      "*  \n",
      "*  *  \n",
      "*  *  *  \n",
      "*  *  *  *  \n",
      "*  *  *  *  *  \n",
      "*  *  *  *  *  *  \n",
      "*  *  *  *  *  *  *  \n",
      "*  *  *  *  *  *  *  *  \n",
      "*  *  *  *  *  *  *  *  *  \n",
      "*  *  *  *  *  *  *  *  *  *  \n",
      "*  *  *  *  *  *  *  *  *  *  *  \n",
      "*  *  *  *  *  *  *  *  *  *  *  *  \n",
      "*  *  *  *  *  *  *  *  *  *  *  *  *  \n",
      "*  *  *  *  *  *  *  *  *  *  *  *  *  *  \n",
      "*  *  *  *  *  *  *  *  *  *  *  *  *  *  *  \n",
      "*  *  *  *  *  *  *  *  *  *  *  *  *  *  *  *  \n",
      "*  *  *  *  *  *  *  *  *  *  *  *  *  *  *  *  *  \n",
      "*  *  *  *  *  *  *  *  *  *  *  *  *  *  *  *  *  *  \n",
      "*  *  *  *  *  *  *  *  *  *  *  *  *  *  *  *  *  *  *  \n",
      "*  *  *  *  *  *  *  *  *  *  *  *  *  *  *  *  *  *  *  *  \n"
     ]
    }
   ],
   "source": [
    "# write a program to print right angle triangle with stars \n",
    "s=int(input(\"enter a number\"))\n",
    "for i in range(1,s+1):\n",
    "    print(\"*  \"*i)\n",
    "    i+=1\n",
    "    "
   ]
  },
  {
   "cell_type": "code",
   "execution_count": 5,
   "id": "3fb39be7-bf77-4c51-b350-31549693042c",
   "metadata": {},
   "outputs": [
    {
     "name": "stdin",
     "output_type": "stream",
     "text": [
      "enter a number 22\n"
     ]
    },
    {
     "name": "stdout",
     "output_type": "stream",
     "text": [
      "1 \n",
      "1 2 \n",
      "1 2 3 \n",
      "1 2 3 4 \n",
      "1 2 3 4 5 \n",
      "1 2 3 4 5 6 \n",
      "1 2 3 4 5 6 7 \n",
      "1 2 3 4 5 6 7 8 \n",
      "1 2 3 4 5 6 7 8 9 \n",
      "1 2 3 4 5 6 7 8 9 10 \n",
      "1 2 3 4 5 6 7 8 9 10 11 \n",
      "1 2 3 4 5 6 7 8 9 10 11 12 \n",
      "1 2 3 4 5 6 7 8 9 10 11 12 13 \n",
      "1 2 3 4 5 6 7 8 9 10 11 12 13 14 \n",
      "1 2 3 4 5 6 7 8 9 10 11 12 13 14 15 \n",
      "1 2 3 4 5 6 7 8 9 10 11 12 13 14 15 16 \n",
      "1 2 3 4 5 6 7 8 9 10 11 12 13 14 15 16 17 \n",
      "1 2 3 4 5 6 7 8 9 10 11 12 13 14 15 16 17 18 \n",
      "1 2 3 4 5 6 7 8 9 10 11 12 13 14 15 16 17 18 19 \n",
      "1 2 3 4 5 6 7 8 9 10 11 12 13 14 15 16 17 18 19 20 \n",
      "1 2 3 4 5 6 7 8 9 10 11 12 13 14 15 16 17 18 19 20 21 \n",
      "1 2 3 4 5 6 7 8 9 10 11 12 13 14 15 16 17 18 19 20 21 22 \n"
     ]
    }
   ],
   "source": [
    "# write a program with following pattern\n",
    "s=int(input(\"enter a number\"))\n",
    "for i in range(1,s+1):\n",
    "    for j in range (1,i+1):\n",
    "        print(j,end=\" \")\n",
    "    print()\n",
    "    i+=1"
   ]
  },
  {
   "cell_type": "code",
   "execution_count": 6,
   "id": "9eb2b493-4c5f-45df-b362-b205fe147057",
   "metadata": {},
   "outputs": [
    {
     "ename": "SyntaxError",
     "evalue": "invalid syntax (1290442681.py, line 1)",
     "output_type": "error",
     "traceback": [
      "\u001b[1;36m  Cell \u001b[1;32mIn[6], line 1\u001b[1;36m\u001b[0m\n\u001b[1;33m    write a program to print\u001b[0m\n\u001b[1;37m          ^\u001b[0m\n\u001b[1;31mSyntaxError\u001b[0m\u001b[1;31m:\u001b[0m invalid syntax\n"
     ]
    }
   ],
   "source": [
    "write a program to print "
   ]
  },
  {
   "cell_type": "code",
   "execution_count": 12,
   "id": "e757bb6b-9e58-4ef1-be26-af5e08e0bb8a",
   "metadata": {},
   "outputs": [
    {
     "name": "stdout",
     "output_type": "stream",
     "text": [
      "          * \n",
      "        * * * \n",
      "      * * * * * \n",
      "    * * * * * * * \n",
      "  * * * * * * * * * \n"
     ]
    }
   ],
   "source": [
    "# write a program to create pyramid with 5 rows \n",
    "n=5\n",
    "for i in range(n):\n",
    "    for j in range(i,n):\n",
    "        print(\" \",end=\" \")\n",
    "    for j in range(i+1):\n",
    "        print(\"*\",end=\" \")\n",
    "    for j in range(i,):\n",
    "        print(\"*\",end=\" \")\n",
    "    print()\n",
    "    \n",
    "\n",
    "\n"
   ]
  },
  {
   "cell_type": "code",
   "execution_count": 8,
   "id": "1f79e42c-dcad-44e5-a544-6e5547188ea4",
   "metadata": {},
   "outputs": [
    {
     "name": "stdout",
     "output_type": "stream",
     "text": [
      "*                 * \n",
      "* *             * * \n",
      "* * *         * * * \n",
      "* * * *     * * * * \n",
      "* * * * * * * * * * \n",
      "* * * *     * * * * \n",
      "* * *         * * * \n",
      "* *             * * \n",
      "*                 * \n",
      "                    \n"
     ]
    }
   ],
   "source": [
    "# create a butter fly patern \n",
    "n=5\n",
    "for i in range(n):\n",
    "    for j in range (i+1):\n",
    "        print(\"*\",end=\" \")\n",
    "    for j in range (i,n-1):\n",
    "        print(\" \",end=\" \")\n",
    "    for j in range (i,n-1):\n",
    "        print(\" \",end=\" \")\n",
    "    for j in range (i+1):\n",
    "        print(\"*\",end=\" \")\n",
    "    print()\n",
    "for i in range (n):\n",
    "    for j  in range (i,n-1):\n",
    "        print(\"*\",end=\" \")\n",
    "    for j  in range (i+1):\n",
    "        print(\" \",end=\" \")\n",
    "    for j  in range (i+1):\n",
    "        print(\" \",end=\" \")\n",
    "    for j  in range (i,n-1):\n",
    "        print(\"*\",end=\" \")\n",
    "    print()\n",
    "        \n",
    "    "
   ]
  },
  {
   "cell_type": "code",
   "execution_count": 16,
   "id": "745c0cc4-7417-498c-b0b8-84e21a681e63",
   "metadata": {},
   "outputs": [
    {
     "name": "stdout",
     "output_type": "stream",
     "text": [
      " * * * * * \n",
      "  * * * * \n",
      "   * * * \n",
      "    * * \n",
      "     * \n",
      "     * \n",
      "    * * \n",
      "   * * * \n",
      "  * * * * \n",
      " * * * * * \n"
     ]
    }
   ],
   "source": [
    "# draw a hour glass pattern \n",
    "n=5\n",
    "for i in range(n):\n",
    "    for j in range(i+1):\n",
    "        print(\"\",end=' ')\n",
    "    for j in range(i,n):\n",
    "        print(\"*\",end=\" \")\n",
    "    print()\n",
    "for i in range(n):\n",
    "    for j in range(i,n):\n",
    "        print(\"\",end=\" \")\n",
    "    for j  in range (i+1):\n",
    "        print(\"*\",end=\" \")\n",
    "    print()"
   ]
  },
  {
   "cell_type": "code",
   "execution_count": 32,
   "id": "e3323b83-035c-4312-b031-265c5e569ead",
   "metadata": {},
   "outputs": [
    {
     "name": "stdout",
     "output_type": "stream",
     "text": [
      " * * * * * \n",
      "  * * * * \n",
      "   * * * \n",
      "    * * \n",
      "     * \n"
     ]
    }
   ],
   "source": [
    "# create a reverse pyramid\n",
    "n=5\n",
    "for i in range (n):\n",
    "    for j in range(i+1):\n",
    "        print(\" \",end=\"\")\n",
    "    for j in range(i,n):\n",
    "        print(\"*\",end=\" \")  \n",
    "    print()"
   ]
  },
  {
   "cell_type": "code",
   "execution_count": 36,
   "id": "2c823eb3-08a0-4064-ad90-44031786773b",
   "metadata": {},
   "outputs": [
    {
     "name": "stdout",
     "output_type": "stream",
     "text": [
      "          1 \n",
      "        1 2 3 \n",
      "      1 2 3 4 5 \n",
      "    1 2 3 4 5 6 7 \n",
      "  1 2 3 4 5 6 7 8 9 \n"
     ]
    }
   ],
   "source": [
    "# create  a hill triyangle pattern \n",
    "n=5\n",
    "\n",
    "for i in range(n):\n",
    "    p=1\n",
    "    for j in range(i,n):\n",
    "        print(\" \",end=\" \")\n",
    "    for j in range(i):\n",
    "        print(p,end=\" \")\n",
    "        p+=1\n",
    "    for j in range(i+1):\n",
    "        print(p,end=\" \")\n",
    "        p+=1\n",
    "    print()\n",
    "        "
   ]
  },
  {
   "cell_type": "code",
   "execution_count": 37,
   "id": "225f63f8-c808-4c70-859d-46c8c59dda0e",
   "metadata": {},
   "outputs": [
    {
     "name": "stdout",
     "output_type": "stream",
     "text": [
      "  5 4 3 2 1 \n",
      "    4 3 2 1 \n",
      "      3 2 1 \n",
      "        2 1 \n",
      "          1 \n"
     ]
    }
   ],
   "source": [
    "# create the following pattern\n",
    "n=5\n",
    "p=5\n",
    "for i in range(n):\n",
    "    k=p\n",
    "    for j in range (i+1): \n",
    "        print(' ',end=\" \")\n",
    "    for j in range (i,n):\n",
    "        print(k,end=\" \")\n",
    "        k-=1\n",
    "    p-=1\n",
    "    print()\n",
    "    \n",
    "    \n",
    "    "
   ]
  },
  {
   "cell_type": "code",
   "execution_count": 42,
   "id": "a645a004-20f9-4316-862b-0c46340a47b9",
   "metadata": {},
   "outputs": [
    {
     "name": "stdout",
     "output_type": "stream",
     "text": [
      "          1 \n",
      "        2 2 2 \n",
      "      3 3 3 3 3 \n",
      "    4 4 4 4 4 4 4 \n",
      "  5 5 5 5 5 5 5 5 5 \n",
      "    6 6 6 6 6 6 6 \n",
      "      7 7 7 7 7 \n",
      "        8 8 8 \n",
      "          9 \n"
     ]
    }
   ],
   "source": [
    "# create the diamond pattern with numbers \n",
    "n=5\n",
    "p=1\n",
    "for i in range (n-1):\n",
    "    for j in range(i,n):\n",
    "        print(\" \",end=\" \")\n",
    "    for j in range (i+1):\n",
    "        print(p,end=\" \")\n",
    "    for j in range(i):\n",
    "        print(p,end=\" \")\n",
    "    p+=1\n",
    "    print()\n",
    "for i in range(n):\n",
    "    for j in range(i+1):\n",
    "        print(\" \",end=\" \")\n",
    "    for j in range(i,n):\n",
    "        print(p,end=\" \")\n",
    "    for j in range(i+1,n):\n",
    "        print(p,end=\" \")\n",
    "    p+=1\n",
    "    print()\n",
    "    "
   ]
  },
  {
   "cell_type": "code",
   "execution_count": 43,
   "id": "8e7a176f-a11b-4b9c-945a-e9d4bcacf07e",
   "metadata": {},
   "outputs": [
    {
     "name": "stdout",
     "output_type": "stream",
     "text": [
      "A \n",
      "C C \n",
      "E E E \n",
      "G G G G \n",
      "I I I I I \n"
     ]
    }
   ],
   "source": [
    "# print the pattern \n",
    "n=5\n",
    "p=65\n",
    "for i in range(n):\n",
    "    for j in range(i+1):\n",
    "        print(chr(p),end=\" \")\n",
    "    p+=2\n",
    "    print()"
   ]
  },
  {
   "cell_type": "code",
   "execution_count": 53,
   "id": "9b1329ef-e2e4-4094-8742-ff50d5894254",
   "metadata": {},
   "outputs": [
    {
     "name": "stdout",
     "output_type": "stream",
     "text": [
      "c \n",
      "o o \n",
      "d d d \n",
      "e e e e \n",
      "r r r r r \n"
     ]
    }
   ],
   "source": [
    "# print the pattern \n",
    "s= \"coder\"\n",
    "n=len(s)\n",
    "p=0\n",
    "for i in range(n):\n",
    "    for j in  range(i+1):\n",
    "        print(s[p],end=\" \")\n",
    "    p+=1\n",
    "    print()"
   ]
  },
  {
   "cell_type": "code",
   "execution_count": 54,
   "id": "f3cb461d-66d4-4aa6-9179-6170f472d8ec",
   "metadata": {},
   "outputs": [
    {
     "name": "stdout",
     "output_type": "stream",
     "text": [
      "c \n",
      "c o \n",
      "c o d \n",
      "c o d e \n",
      "c o d e r \n"
     ]
    }
   ],
   "source": [
    "s= \"coder\"\n",
    "n=len(s)\n",
    "\n",
    "for i in range(n):\n",
    "    p=0\n",
    "    for j in  range(i+1):\n",
    "        print(s[p],end=\" \")\n",
    "        p+=1\n",
    "    print()"
   ]
  },
  {
   "cell_type": "code",
   "execution_count": 56,
   "id": "220d5a57-2d66-4744-b077-d2a10953200d",
   "metadata": {},
   "outputs": [
    {
     "name": "stdout",
     "output_type": "stream",
     "text": [
      "* * * * * * * * * \n",
      "* * * * * * * * * \n",
      "* * * * * * * * * \n",
      "* * * * * * * * * \n",
      "* * * * * * * * * \n",
      "* * * * * * * * * \n",
      "* * * * * * * * * \n",
      "* * * * * * * * * \n",
      "* * * * * * * * * \n"
     ]
    }
   ],
   "source": [
    "# square matrix\n",
    "n=9\n",
    "for i in range(n):\n",
    "    for j in range (n):\n",
    "        print(\"*\",end=\" \")\n",
    "    print()"
   ]
  },
  {
   "cell_type": "code",
   "execution_count": 63,
   "id": "fe7522f8-2a4a-473c-b46f-5c69afa130c4",
   "metadata": {},
   "outputs": [
    {
     "name": "stdout",
     "output_type": "stream",
     "text": [
      "*               * \n",
      "*               * \n",
      "*               * \n",
      "*               * \n",
      "*               * \n",
      "*               * \n",
      "*               * \n",
      "*               * \n",
      "*               * \n"
     ]
    }
   ],
   "source": [
    "n=9\n",
    "for i in range(n):\n",
    "    for j in range(n):\n",
    "        if j==0 or j==n-1:\n",
    "            print(\"*\", end=\" \")\n",
    "        else:\n",
    "            print(\" \",end=\" \")\n",
    "    print()"
   ]
  },
  {
   "cell_type": "code",
   "execution_count": 69,
   "id": "e4a8003f-024c-4299-9e8b-e74941d7edfe",
   "metadata": {},
   "outputs": [
    {
     "name": "stdout",
     "output_type": "stream",
     "text": [
      "        *         \n",
      "        *         \n",
      "        *         \n",
      "        *         \n",
      "* * * * * * * * * \n",
      "        *         \n",
      "        *         \n",
      "        *         \n",
      "        *         \n"
     ]
    }
   ],
   "source": [
    "n=9\n",
    "for i in range(n):\n",
    "    for j in range(n):\n",
    "        if i==n//2 or j==n//2:\n",
    "            print(\"*\", end=\" \")\n",
    "        else:\n",
    "            print(\" \",end=\" \")\n",
    "    print()"
   ]
  },
  {
   "cell_type": "code",
   "execution_count": 72,
   "id": "cce716ed-6435-4bd5-bf9f-5ab4b326b52e",
   "metadata": {},
   "outputs": [
    {
     "name": "stdout",
     "output_type": "stream",
     "text": [
      "*               * \n",
      "  *           *   \n",
      "    *       *     \n",
      "      *   *       \n",
      "        *         \n",
      "      *   *       \n",
      "    *       *     \n",
      "  *           *   \n",
      "*               * \n"
     ]
    }
   ],
   "source": [
    "n=9\n",
    "for i in range(n):\n",
    "    for j in range(n):\n",
    "        if i==j or i+j==n-1:\n",
    "            print(\"*\", end=\" \")\n",
    "        else:\n",
    "            \n",
    "            print(\" \",end=\" \")\n",
    "    print()"
   ]
  },
  {
   "cell_type": "code",
   "execution_count": 74,
   "id": "0704de7d-e789-4cfa-abc1-bfe6bc861fab",
   "metadata": {},
   "outputs": [
    {
     "name": "stdout",
     "output_type": "stream",
     "text": [
      "* * * * * * * * * \n",
      "*               * \n",
      "*               * \n",
      "*               * \n",
      "*               * \n",
      "*               * \n",
      "*               * \n",
      "*               * \n",
      "* * * * * * * * * \n"
     ]
    }
   ],
   "source": [
    "n=9\n",
    "for i in range(n):\n",
    "    for j in range(n):\n",
    "        if i==0 or i==n-1 or j==0 or j==n-1:\n",
    "            print(\"*\", end=\" \")\n",
    "        else:\n",
    "            print(\" \",end=\" \")\n",
    "    print()"
   ]
  },
  {
   "cell_type": "code",
   "execution_count": 77,
   "id": "b3131d85-dc1e-48aa-83ab-5771fce5c478",
   "metadata": {},
   "outputs": [
    {
     "name": "stdout",
     "output_type": "stream",
     "text": [
      "*                 \n",
      "* *               \n",
      "*   *             \n",
      "*     *           \n",
      "*       *         \n",
      "*         *       \n",
      "*           *     \n",
      "*             *   \n",
      "* * * * * * * * * \n"
     ]
    }
   ],
   "source": [
    "n=9\n",
    "for i in range(n):\n",
    "    for j in range(n):\n",
    "        if j==0 or i==n-1 or i==j:\n",
    "            print(\"*\", end=\" \")\n",
    "        else:\n",
    "            print(\" \",end=\" \")\n",
    "    print()"
   ]
  },
  {
   "cell_type": "code",
   "execution_count": 81,
   "id": "96ffe7bf-0b96-4907-a79e-02a8fcbde8d7",
   "metadata": {},
   "outputs": [
    {
     "name": "stdout",
     "output_type": "stream",
     "text": [
      "* * * * * * * * * \n",
      "*             *   \n",
      "*           *     \n",
      "*         *       \n",
      "*       *         \n",
      "*     *           \n",
      "*   *             \n",
      "* *               \n",
      "*                 \n"
     ]
    }
   ],
   "source": [
    "n=9\n",
    "for i in range(n):\n",
    "    for j in range(n):\n",
    "        if i==0 or j==0 or i+j==n-1:\n",
    "            print(\"*\", end=\" \")\n",
    "        else:\n",
    "            print(\" \", end=\" \")   \n",
    "    print()"
   ]
  },
  {
   "cell_type": "code",
   "execution_count": 95,
   "id": "620b865c-c5ac-4eac-a098-d92ad9ef03ab",
   "metadata": {},
   "outputs": [
    {
     "name": "stdout",
     "output_type": "stream",
     "text": [
      "                  * \n",
      "                *   * \n",
      "              *       * \n",
      "            *           * \n",
      "          *               * \n",
      "        *                   * \n",
      "      *                       * \n",
      "    *                           * \n",
      "  * * * * * * * * * * * * * * * * * \n"
     ]
    }
   ],
   "source": [
    "n=9\n",
    "for i in range(n):\n",
    "    for j in range(i,n): \n",
    "        print(\" \",end=\" \")\n",
    "    for j in range(i): \n",
    "        if j==0 or i==n-1:\n",
    "            print(\"*\", end=\" \")\n",
    "        else:\n",
    "            print(\" \",end=\" \")\n",
    "    for j in range(i+1):\n",
    "        if i==j or i==n-1:\n",
    "            print(\"*\", end=\" \")\n",
    "        else: \n",
    "            print(\" \",end=\" \")\n",
    "    print()"
   ]
  },
  {
   "cell_type": "code",
   "execution_count": 1,
   "id": "82a0e61c-ab7b-4fb2-bb6f-27db0c13635d",
   "metadata": {},
   "outputs": [
    {
     "name": "stdout",
     "output_type": "stream",
     "text": [
      "                * \n",
      "              *   * \n",
      "            *       * \n",
      "          *           * \n",
      "        *               * \n",
      "      *                   * \n",
      "    *                       * \n",
      "  *                           * \n",
      "*                               * \n",
      "  *                           * \n",
      "    *                       * \n",
      "      *                   * \n",
      "        *               * \n",
      "          *           * \n",
      "            *       * \n",
      "              *   * \n",
      "                * \n"
     ]
    }
   ],
   "source": [
    "n=9\n",
    "for i in range(n-1):\n",
    "    for j in range(i,n-1):\n",
    "        print(\" \",end=\" \")\n",
    "    for j in range(i):\n",
    "        if j == 0:\n",
    "            print(\"*\",end=\" \")\n",
    "        else:\n",
    "            print(\" \",end=\" \")\n",
    "    for j in range (i+1):\n",
    "        if i==j:\n",
    "            print(\"*\", end=\" \")\n",
    "        else:\n",
    "            print(\" \",end=\" \")\n",
    "    print()\n",
    "for i in range(n):\n",
    "    for j in range(i):\n",
    "        print(\" \",end=\" \")\n",
    "    for j in range(i,n):\n",
    "        if j==i:\n",
    "            print(\"*\", end=\" \")\n",
    "        else:\n",
    "            print(\" \",end=\" \")\n",
    "    for j in range(i,n-1):\n",
    "        if j==n-2:\n",
    "            print(\"*\", end=\" \")\n",
    "        else:\n",
    "            print(\" \",end=\" \")\n",
    "    print()"
   ]
  },
  {
   "cell_type": "code",
   "execution_count": null,
   "id": "1e7087d1-0ffe-4b01-92a3-e180c784b926",
   "metadata": {},
   "outputs": [],
   "source": [
    "n=1001\n",
    "m=n\n",
    "sum=0\n",
    "while m!=0:\n",
    "    d=m%10\n",
    "    sum=sum*10+d\n",
    "    m=m//10\n",
    "\n",
    "if sum==n:\n",
    "    print(\"Yes\")\n",
    "else:\n",
    "    print(\"No\")"
   ]
  },
  {
   "cell_type": "code",
   "execution_count": null,
   "id": "ac2b4ca6-845f-41b9-b3ad-d46d907a1bde",
   "metadata": {},
   "outputs": [],
   "source": [
    "#n = int(input(\"Enter a number: \"))\n",
    "n = 121\n",
    "original_number = n\n",
    "reversed_number = 0\n",
    "while n != 0:\n",
    "    digit = n % 10\n",
    "    reversed_number = reversed_number * 10+ digit\n",
    "    n = n//10\n",
    "\n",
    "if reversed_number == original_number:\n",
    "    print(\"Yes\")\n",
    "else:\n",
    "    print(\"No\")"
   ]
  },
  {
   "cell_type": "code",
   "execution_count": null,
   "id": "137d82fe-39be-4429-882b-fb968e9baec1",
   "metadata": {},
   "outputs": [],
   "source": [
    "n=132\n",
    "m=n\n",
    "sum=0\n",
    "prod=1\n",
    "while m!=0:\n",
    "    d=m%10\n",
    "    m=m//10\n",
    "    sum=sum+d\n",
    "    prod=prod*d\n",
    "if sum==prod:\n",
    "    print(\"Yes\")\n",
    "else:\n",
    "    print(\"No\")"
   ]
  },
  {
   "cell_type": "code",
   "execution_count": null,
   "id": "33608add-e2fa-4062-96e6-0ee2246f687d",
   "metadata": {},
   "outputs": [],
   "source": [
    "n=59\n",
    "m=n\n",
    "sum=0\n",
    "prod=1\n",
    "while m!=0:\n",
    "    d=m%10\n",
    "    m=m//10\n",
    "    sum=sum+d;prod=prod*d\n",
    "if sum+prod==n:\n",
    "    print(\"Yes\")\n",
    "else:\n",
    "    print(\"No\")"
   ]
  },
  {
   "cell_type": "code",
   "execution_count": null,
   "id": "f31208ff-dfdd-4382-b727-969e6e3b69fc",
   "metadata": {},
   "outputs": [],
   "source": [
    " #n = int(input(\"Enter a number: \"))\n",
    "        n = 1124\n",
    "        sum_digits=0\n",
    "        prod_digits = 1\n",
    "        original_number = n\n",
    "        while n != 0:\n",
    "            digit = n % 10\n",
    "            n=n//10\n",
    "            sum_digits += digit\n",
    "            prod_digits *= digit\n",
    "        if sum_digits == prod_digits:\n",
    "            print(f\"{original_number} is a spy number\")\n",
    "        else:\n",
    "            print(f\"{original_number} is not a spy number\")"
   ]
  },
  {
   "cell_type": "code",
   "execution_count": null,
   "id": "b96a488d-8f4c-4d5b-a389-00ec343079bd",
   "metadata": {},
   "outputs": [],
   "source": [
    "n=156\n",
    "m=n\n",
    "sum=0\n",
    "prod=1\n",
    "while m!=0:\n",
    "    d=m%10\n",
    "    m=m//10\n",
    "    sum=sum+d\n",
    "if n%sum==0:\n",
    "    print(\"Yes\")\n",
    "else:\n",
    "    print(\"No\")"
   ]
  },
  {
   "cell_type": "code",
   "execution_count": null,
   "id": "cd751039-357b-4382-89ca-cf53356cb884",
   "metadata": {},
   "outputs": [],
   "source": [
    "#n = int(input(\"Enter a number: \"))\n",
    "n = 24\n",
    "sum = 0\n",
    "org = n\n",
    "while n!=0:\n",
    "    digit = n%10\n",
    "    n=n//10\n",
    "    sum+=digit\n",
    "if org%sum == 0:\n",
    "    print(\"Harshad number\")\n",
    "else:\n",
    "    print(\"Not a Harshad's number\")"
   ]
  },
  {
   "cell_type": "code",
   "execution_count": null,
   "id": "85f5866b-dde2-47f1-87f5-8e1eb1879a64",
   "metadata": {},
   "outputs": [],
   "source": [
    "n = 1560000\n",
    "m=n\n",
    "count = 0\n",
    "while m!=0:\n",
    "    d=m%10\n",
    "    m=m//10\n",
    "    if d == 0:\n",
    "        count+=1\n",
    "if count>0:\n",
    "    print(\"Yes\")\n",
    "else:\n",
    "    print(\"No\")\n",
    "print(\"No of zeroes in number:\",count)"
   ]
  },
  {
   "cell_type": "code",
   "execution_count": null,
   "id": "a2cb1592-36da-4154-9154-5b6835d44966",
   "metadata": {},
   "outputs": [],
   "source": [
    "n = 9\n",
    "m = n**2\n",
    "sum = 0\n",
    "while m!=0:\n",
    "    d = m%10\n",
    "    sum=sum+d\n",
    "    m=m//10\n",
    "if sum==n:\n",
    "    print(\"Yes\")\n",
    "else:\n",
    "    print(\"No\")"
   ]
  },
  {
   "cell_type": "code",
   "execution_count": null,
   "id": "0c5988fb-3d51-4ffc-a043-ffd912296909",
   "metadata": {},
   "outputs": [],
   "source": [
    "    n = 9\n",
    "    flag = 0\n",
    "    m = n\n",
    "    q = n*n\n",
    "    while m!=0:\n",
    "        d=m%10;d1=q%10\n",
    "        if d!=d1:\n",
    "            flag = 1\n",
    "        m=m//10;q=q//10\n",
    "    if flag==0:\n",
    "        print(\"Yes\")\n",
    "    else:\n",
    "        print(\"No\")"
   ]
  },
  {
   "cell_type": "code",
   "execution_count": null,
   "id": "511918ee-c32e-4a7d-8d7d-764fdcdfabdd",
   "metadata": {},
   "outputs": [],
   "source": [
    "import math\n",
    "n = 145\n",
    "m = n\n",
    "sum = 0\n",
    "while m!=0:\n",
    "    d=m%10\n",
    "    sum = sum+math.factorial(d)\n",
    "    m=m//10\n",
    "if sum==n:\n",
    "    print(\"Yes\")\n",
    "else:\n",
    "    print(\"No\")"
   ]
  },
  {
   "cell_type": "code",
   "execution_count": null,
   "id": "69698c0b-0f7b-42b4-bf70-8e1a96a9460e",
   "metadata": {},
   "outputs": [],
   "source": [
    "#n = int(input(\"Enter a number: \"))\n",
    "n = 45\n",
    "for i in range(1,n+1):\n",
    "    if n%i==0:\n",
    "        print(i,end=\" \")"
   ]
  },
  {
   "cell_type": "code",
   "execution_count": null,
   "id": "bd89fc57-24b6-4418-84e8-0a93270d506b",
   "metadata": {},
   "outputs": [],
   "source": [
    "#n=int(input(\"Enter a number: \"))\n",
    "n = 23\n",
    "count=0\n",
    "for i in range(1,n+1):\n",
    "    if n%i==0:count+=1\n",
    "if count==2:\n",
    "    print(\"Prime\")\n",
    "else:\n",
    "    print(\"Not Prime OR composite\")"
   ]
  },
  {
   "cell_type": "code",
   "execution_count": null,
   "id": "e99b072a-7eaa-41db-b505-70779aec5b91",
   "metadata": {},
   "outputs": [],
   "source": [
    "#n=int(input(\"Enter a number: \"))\n",
    "n = 6\n",
    "sum=0\n",
    "for i in range(1,n-1):\n",
    "    if n%i==0:\n",
    "        sum=sum+i\n",
    "if n==sum:\n",
    "    print(\"Yes\")\n",
    "else:\n",
    "    print(\"No\")"
   ]
  },
  {
   "cell_type": "code",
   "execution_count": null,
   "id": "b0555db6-060e-4388-ac28-eb8da621ae60",
   "metadata": {},
   "outputs": [],
   "source": [
    "#n=int(input(\"Enter a number: \"))\n",
    "n = 34\n",
    "count=0\n",
    "for i in range(1,n+1):\n",
    "    if n%i==0:count+=1\n",
    "if count>2:\n",
    "    print(\"Composite number\")\n",
    "else:\n",
    "    print(\"Not a Composite number\")"
   ]
  },
  {
   "cell_type": "code",
   "execution_count": null,
   "id": "089d4b33-06e4-4391-8fcc-c0e5896613c0",
   "metadata": {},
   "outputs": [],
   "source": [
    "#n=int(input(\"Enter a number: \"))\n",
    "n = 34\n",
    "sum = 0\n",
    "for i in range(1,n):\n",
    "    if n%i==0:\n",
    "        sum=sum+i\n",
    "if sum>n:\n",
    "    print(\"Abundant number\")\n",
    "else:\n",
    "    print(\"Deficient number\")"
   ]
  },
  {
   "cell_type": "code",
   "execution_count": null,
   "id": "83c4febf-516d-4849-8028-3a4a7b5d603f",
   "metadata": {},
   "outputs": [],
   "source": [
    "#n=int(input(\"Enter a number: \"))\n",
    "n = 56\n",
    "fact = 0\n",
    "for i in range(1,n+1):\n",
    "    if(i*(i+1)==n):\n",
    "        print(f\"{i} x {i+1} = {n}\")\n",
    "        fact = i\n",
    "if fact > 0:\n",
    "    print(\"Pronic number\")\n",
    "else:\n",
    "    print(\"Not a Pronic number\")"
   ]
  },
  {
   "cell_type": "code",
   "execution_count": null,
   "id": "75373536-dbb2-4b1e-b58a-50c6eb57ca29",
   "metadata": {},
   "outputs": [],
   "source": [
    "#n=int(input(\"Enter N: \"))\n",
    "n = 20\n",
    "sum = 0\n",
    "for i in range(1,n+1):\n",
    "    sum = sum+i\n",
    "print(\"Sum of series:\",sum)"
   ]
  },
  {
   "cell_type": "code",
   "execution_count": null,
   "id": "436e9e06-038c-448d-b26e-5bda762544af",
   "metadata": {},
   "outputs": [],
   "source": [
    "#n=int(input(\"Enter N: \"))\n",
    "n = 20\n",
    "sum = 0\n",
    "a = 9\n",
    "for i in range(1,n+1):\n",
    "    sum = sum+a\n",
    "    a+=4\n",
    "print(\"Sum of series:\",sum)"
   ]
  },
  {
   "cell_type": "code",
   "execution_count": null,
   "id": "64e429bc-33d5-449f-935e-3f40206a0ea1",
   "metadata": {},
   "outputs": [],
   "source": [
    "#n=int(input(\"Enter N: \"))\n",
    "n = 20\n",
    "sum = 0\n",
    "a = 2\n",
    "for i in range(1,n+1):\n",
    "    sum = sum+a\n",
    "    a+=2\n",
    "print(\"Sum of series:\",sum)"
   ]
  },
  {
   "cell_type": "code",
   "execution_count": null,
   "id": "c0d3c9dc-4358-4af4-9f44-7a3d7ad09efd",
   "metadata": {},
   "outputs": [],
   "source": [
    "#n=int(input(\"Enter N: \"))\n",
    "n = 20\n",
    "sum = 0\n",
    "a = 1\n",
    "for i in range(1,n+1):\n",
    "    sum = sum+a\n",
    "    a+=2\n",
    "print(\"Sum of series:\",sum)"
   ]
  },
  {
   "cell_type": "code",
   "execution_count": null,
   "id": "9d203f8d-97b0-4552-bcee-1ec96e347019",
   "metadata": {},
   "outputs": [],
   "source": [
    "#n=int(input(\"Enter N: \"))\n",
    "n = 10\n",
    "sum = 0\n",
    "a = 10\n",
    "for i in range(1,n+1):\n",
    "    sum = sum+a\n",
    "    a-=1\n",
    "print(\"Sum of series:\",sum)"
   ]
  },
  {
   "cell_type": "code",
   "execution_count": null,
   "id": "8e3753f4-654a-4415-91da-a34bde755058",
   "metadata": {},
   "outputs": [],
   "source": [
    "#n=int(input(\"Enter N: \"))\n",
    "#x=int(input(\"Enter X: \"))\n",
    "n = 10\n",
    "x = 3\n",
    "sum = 0\n",
    "a = 10\n",
    "for i in range(1,n+1):\n",
    "    sum = sum + x**i\n",
    "print(\"Sum of series:\",sum)"
   ]
  },
  {
   "cell_type": "code",
   "execution_count": null,
   "id": "b19df79a-5114-44b4-b1c0-30465fb2ed66",
   "metadata": {},
   "outputs": [],
   "source": [
    "import math as m\n",
    "#n=int(input(\"Enter N: \"))\n",
    "#x=int(input(\"Enter X: \"))\n",
    "n = 10\n",
    "x = 2\n",
    "sum = 0\n",
    "a = 9\n",
    "for i in range(1,n+1):\n",
    "    sum = sum + m.factorial(a)/x\n",
    "    a+=4\n",
    "print(\"Sum of series:\",sum)"
   ]
  },
  {
   "cell_type": "code",
   "execution_count": null,
   "id": "d2875671-aab3-4b32-8197-4f4d6613ba26",
   "metadata": {},
   "outputs": [],
   "source": [
    "#n=int(input(\"Enter N: \"))\n",
    "#x=int(input(\"Enter X: \"))\n",
    "n = 20\n",
    "x = 2\n",
    "sum = 0\n",
    "a = 2\n",
    "for i in range(1,n+1):\n",
    "    sum = sum + a**x\n",
    "    a+=2\n",
    "print(\"Sum of series:\",sum)"
   ]
  },
  {
   "cell_type": "code",
   "execution_count": null,
   "id": "9a11e683-ec84-4669-8b14-157e23804d35",
   "metadata": {},
   "outputs": [],
   "source": [
    "#n=int(input(\"Enter N: \"))\n",
    "#x=int(input(\"Enter X: \"))\n",
    "n = 20\n",
    "x = 2\n",
    "sum = 0\n",
    "a = 1\n",
    "for i in range(1,n+1):\n",
    "    sum = sum + (a**3)/x\n",
    "    a+=2\n",
    "print(\"Sum of series:\",sum)"
   ]
  },
  {
   "cell_type": "code",
   "execution_count": null,
   "id": "6f3dbd2e-3d1c-4eae-8261-33ce072fff0c",
   "metadata": {},
   "outputs": [],
   "source": [
    "n = 10\n",
    "sum = 0\n",
    "a = 2\n",
    "b = 10\n",
    "for i in range(1,n+1):\n",
    "    sum = sum + a/b\n",
    "    a+=2;b-=1\n",
    "print(\"Sum of series:\",sum)"
   ]
  },
  {
   "cell_type": "code",
   "execution_count": null,
   "id": "3b2e6e65-e70d-4832-b6d7-74ecb7675073",
   "metadata": {},
   "outputs": [],
   "source": [
    "#n=int(input(\"Enter N: \"))\n",
    "n = 20\n",
    "sum = 0\n",
    "a = 2\n",
    "for i in range(1,n+1):\n",
    "    sum = sum + a*2\n",
    "    a*=2\n",
    "print(\"Sum of series:\",sum)"
   ]
  },
  {
   "cell_type": "code",
   "execution_count": null,
   "id": "f259e4b2-011e-4f36-acef-ee3233707b43",
   "metadata": {},
   "outputs": [],
   "source": [
    "#n=int(input(\"Enter N: \"))\n",
    "n = 20\n",
    "sum = 0\n",
    "a = 2\n",
    "for i in range(1,n+1):\n",
    "    sum = sum + a\n",
    "    a*=3\n",
    "print(\"Sum of series:\",sum)"
   ]
  },
  {
   "cell_type": "code",
   "execution_count": null,
   "id": "92c0858f-dbb9-4505-adc4-82d0393d4130",
   "metadata": {},
   "outputs": [],
   "source": [
    "#n=int(input(\"Enter N: \"))\n",
    "n = 20\n",
    "sum = 0\n",
    "a = 10\n",
    "for i in range(1,n+1):\n",
    "    sum = sum + a\n",
    "    a*=3\n",
    "print(\"Sum of series:\",sum)"
   ]
  },
  {
   "cell_type": "code",
   "execution_count": null,
   "id": "39cbd9a3-44b8-42e0-b8ec-55531660c2c2",
   "metadata": {},
   "outputs": [],
   "source": [
    "#n=int(input(\"Enter N: \"))\n",
    "n = 10\n",
    "sum = 0\n",
    "a = 5\n",
    "for i in range(1,n+1):\n",
    "    sum = sum + a\n",
    "    a*=3\n",
    "print(\"Sum of series:\",sum)"
   ]
  },
  {
   "cell_type": "code",
   "execution_count": null,
   "id": "2a4bc765-19d5-4b91-8cb0-147bfec729df",
   "metadata": {},
   "outputs": [],
   "source": [
    "#n=int(input(\"Enter N: \"))\n",
    "#x=int(input(\"Enter X: \"))\n",
    "n = 10\n",
    "x = 2\n",
    "sum = 0\n",
    "a = 2\n",
    "for i in range(1,n+1):\n",
    "    sum = sum + x/a\n",
    "    a*=2\n",
    "print(\"Sum of series:\",sum)"
   ]
  },
  {
   "cell_type": "code",
   "execution_count": null,
   "id": "18a41ffe-14c5-4b2d-9e5e-37910c984d57",
   "metadata": {},
   "outputs": [],
   "source": [
    "#n=int(input(\"Enter N: \"))\n",
    "n = 20\n",
    "sum = 0\n",
    "a = 2\n",
    "for i in range(1,n+1):\n",
    "    if i%2==0:\n",
    "        sum = sum - a\n",
    "    else:\n",
    "        sum  = sum + a\n",
    "    a*=3\n",
    "print(\"Sum of series:\",sum)"
   ]
  },
  {
   "cell_type": "code",
   "execution_count": null,
   "id": "070dc81f-ca83-4302-8739-452896039ade",
   "metadata": {},
   "outputs": [],
   "source": [
    "#n=int(input(\"Enter N: \"))\n",
    "#x=int(input(\"Enter X: \"))\n",
    "n = 10\n",
    "x = 2\n",
    "sum = 0\n",
    "a = 2\n",
    "b = 10\n",
    "for i in range(1,n+1):\n",
    "    sum = sum + (x+a)/b\n",
    "    a+=2\n",
    "    b*=3\n",
    "print(\"Sum of series:\",sum)"
   ]
  },
  {
   "cell_type": "code",
   "execution_count": null,
   "id": "b42cbd99-1c00-48db-a3ee-9cc7bc96f2c7",
   "metadata": {},
   "outputs": [],
   "source": [
    "import math as m\n",
    "#n=int(input(\"Enter N: \"))\n",
    "#x=int(input(\"Enter X: \"))\n",
    "n = 5\n",
    "x = 2\n",
    "sum = 0\n",
    "a = 5\n",
    "b = 2\n",
    "for i in range(1,n+1):\n",
    "    sum = sum + (x*a**2)/(i+m.factorial(b))\n",
    "    a*=5\n",
    "    b+=1\n",
    "print(\"Sum of series:\",round(sum,2))"
   ]
  },
  {
   "cell_type": "code",
   "execution_count": null,
   "id": "63495e2f-b7b5-42e2-ba6d-02154524abca",
   "metadata": {},
   "outputs": [],
   "source": [
    "#s=input('Enter the string:')\n",
    "s = '796115110113721110141108'\n",
    "s= s[::-1]\n",
    "print(s)\n",
    "i=0\n",
    "res=\"\"\n",
    "\n",
    "while(i<len(s)-1):\n",
    "    x=s[i]+s[i+1]\n",
    "    if x==\"32\":\n",
    "        res=res+\" \"\n",
    "    elif int(x) in range (65,91) or int(x) in range (97,123):\n",
    "        res=res+chr(int(x))\n",
    "    elif i+2<len(s):\n",
    "        x=x+s[i+2]\n",
    "        res=res+chr(int(x))\n",
    "        i+=1\n",
    "    i+=2\n",
    "print(res)"
   ]
  },
  {
   "cell_type": "code",
   "execution_count": null,
   "id": "44952b50-65e3-4b4c-9d6e-fe9d81e2101d",
   "metadata": {},
   "outputs": [],
   "source": [
    "class Myclass:\n",
    "    a = \"I am a class variable\"\n",
    "    \n",
    "    def _init_(self,len):\n",
    "        self.length = len\n",
    "        \n",
    "    @classmethod\n",
    "    def class_method(cls):\n",
    "        print(\"This is a class method.\")\n",
    "        print(f\"using class variable:{cls.a}\")\n",
    "        \n",
    "#using class method without creating an instance\n",
    "Myclass.class_method()"
   ]
  },
  {
   "cell_type": "code",
   "execution_count": null,
   "id": "e13a8dcb-1651-4a54-9fbe-354985a6fccf",
   "metadata": {},
   "outputs": [],
   "source": [
    "class InstanceCounter:\n",
    "    count = 0\n",
    "    \n",
    "    def _init_(self):\n",
    "        InstanceCounter.count += 1\n",
    "        \n",
    "    @classmethod\n",
    "    def get_instance_count(cls):\n",
    "        return cls.count\n",
    "\n",
    "instance1 = InstanceCounter()\n",
    "instance2 = InstanceCounter()\n",
    "instance3 = InstanceCounter()\n",
    "\n",
    "total_instances = InstanceCounter.get_instance_count()\n",
    "print(f\"Total number of instances created: {total_instances}\")"
   ]
  },
  {
   "cell_type": "code",
   "execution_count": null,
   "id": "cf0d4dd3-ba7c-4c8d-8fcc-9bc09ca7f41a",
   "metadata": {},
   "outputs": [],
   "source": [
    "class MyClass:\n",
    "    class_variable = \"I am a class variable\"\n",
    "    \n",
    "    def _init__(self, instance_variable):\n",
    "        self.instance_variable = instance_variable\n",
    "        \n",
    "    @staticmethod\n",
    "    def static_method():\n",
    "        print(\"This is a static method.\")\n",
    "        print(\"It doesn't have access to instance variables or self.\")\n",
    "\n",
    "MyClass.static_method()"
   ]
  },
  {
   "cell_type": "code",
   "execution_count": null,
   "id": "b1550783-1abf-4f65-a356-10dbb0c69727",
   "metadata": {},
   "outputs": [],
   "source": [
    "class Calculator:\n",
    "    @staticmethod\n",
    "    def add(x, y):\n",
    "        return x + y\n",
    "        \n",
    "    @staticmethod\n",
    "    def subtract(x, y):\n",
    "        return x - y\n",
    "        \n",
    "    @staticmethod\n",
    "    def multiply(x, y):\n",
    "        return x * y\n",
    "        \n",
    "    @staticmethod\n",
    "    def divide(x, y):\n",
    "        if y != 0:\n",
    "            return x / y\n",
    "        else:\n",
    "            print(\"Cannot divide by zero.\")\n",
    "            return None\n",
    "\n",
    "result_add = Calculator.add(5, 3)\n",
    "print(f\"Addition: {result_add}\")\n",
    "\n",
    "result_subtract = Calculator.subtract(8, 4)\n",
    "print(f\"Subtraction: {result_subtract}\")\n",
    "\n",
    "result_multiply = Calculator.multiply(2, 6)\n",
    "print(f\"Multiplication: {result_multiply}\")\n",
    "\n",
    "result_divide = Calculator.divide(10, 2)\n",
    "print(f\"Division: {result_divide}\")"
   ]
  },
  {
   "cell_type": "code",
   "execution_count": null,
   "id": "8e0f32f9-28dd-423f-a888-23299a12b0c7",
   "metadata": {},
   "outputs": [],
   "source": [
    "class Circle:\n",
    "    def __init__(self, radius):\n",
    "        self._radius = radius\n",
    "        \n",
    "    @property\n",
    "    def radius (self):\n",
    "        \"\"\"Getter method for radius\"\"\"\n",
    "        return self._radius\n",
    "        \n",
    "    @radius.setter\n",
    "    def radius (self, value):\n",
    "        \"\"\"setter method for radius\"\"\"\n",
    "        if value < 0:\n",
    "            raise ValueError(\"Value cannot be negative\")\n",
    "        self._radius=value\n",
    "        \n",
    "    @property\n",
    "    def area(self):\n",
    "        \"\"\"method to calculate the area\"\"\"\n",
    "        return 3.14 * self._radius**2\n",
    "\n",
    "obj = Circle(radius=5)\n",
    "print(f\"radius: {obj.radius}\")\n",
    "print(f\"area: {obj.area}\")"
   ]
  },
  {
   "cell_type": "code",
   "execution_count": null,
   "id": "35ace6f2-12fa-4c39-9e4a-f4b7e006a5f3",
   "metadata": {},
   "outputs": [],
   "source": [
    "def print_params(x,y,z=3,*pospar,**keypar):\n",
    "    print(x,y,z)\n",
    "    print(pospar)\n",
    "    print(keypar)\n",
    "\n",
    "print_params(1,2,3,4,5,6,7, foo=1, bar=2)\n",
    "print_params(1,2)\n",
    "print_params(1,2,3,'Testing',foo=1, bar=2)"
   ]
  },
  {
   "cell_type": "code",
   "execution_count": null,
   "id": "c3b5eb7d-96f6-4ff7-8583-6b4cdadf17c8",
   "metadata": {},
   "outputs": [],
   "source": [
    "class Point:\n",
    "    def __init__(self,x=0,y=0):\n",
    "        self.x = x\n",
    "        self.y = y\n",
    "    def __add__(self, other):\n",
    "        return Point(self.x + other.x, self.y + other.y)\n",
    "    def __mul__(self, other):\n",
    "        if isinstance (other, Point):\n",
    "            return Point(self.x*other.x, self.y*other.y)\n",
    "        else:\n",
    "            return Point(self.x*other, self.y*other)\n",
    "    def __rmul__(self, other):\n",
    "        return Point(self.x*other, self.y * other)\n",
    "    def __repr__(self):\n",
    "        return (\"{0},{1}\".format(self.x, self.y))\n",
    "        \n",
    "p1= Point(2,3)\n",
    "p2= Point(3,4)\n",
    "\n",
    "print(p1 + p2)\n",
    "print(p1*p2)"
   ]
  },
  {
   "cell_type": "code",
   "execution_count": null,
   "id": "1f05fe79-7745-4bb2-b4e9-6dfaa2585a68",
   "metadata": {},
   "outputs": [],
   "source": [
    "try:\n",
    "    fhand = open('jatin pg.txt')\n",
    "    print (fhand)\n",
    "except FileNotFoundError:\n",
    "    print(\"Abe sahi file name enter kar le...\")"
   ]
  },
  {
   "cell_type": "code",
   "execution_count": null,
   "id": "fd44db57-7708-424f-ad3b-9fa67b88b8e5",
   "metadata": {},
   "outputs": [],
   "source": [
    "fhand = open('mbox-short.txt')\n",
    "inp = fhand.read()\n",
    "print(len(inp))\n",
    "print(inp[:20])"
   ]
  },
  {
   "cell_type": "code",
   "execution_count": null,
   "id": "9ed70fbd-7608-4925-abbc-4f7fb6ec2436",
   "metadata": {},
   "outputs": [],
   "source": [
    "fhand = open('mbox-short.txt')\n",
    "for line in fhand:\n",
    "    if line.startswith(\"From:\"):\n",
    "        print(line)"
   ]
  },
  {
   "cell_type": "code",
   "execution_count": null,
   "id": "570a7c34-3e47-476d-bb21-af7af1e5e18a",
   "metadata": {},
   "outputs": [],
   "source": [
    "fhand = open('mbox-short.txt')\n",
    "for line in fhand:\n",
    "    line = line.rstrip()\n",
    "    if line.startswith(\"From:\"):\n",
    "        print(line)"
   ]
  },
  {
   "cell_type": "code",
   "execution_count": null,
   "id": "ff23cc2d-bf1b-4c5b-92cd-5eed2cc27248",
   "metadata": {},
   "outputs": [],
   "source": [
    "fhand = open('mbox-short.txt')\n",
    "for line in fhand:\n",
    "    line = line.rstrip()\n",
    "    if not line.startswith(\"From:\"):\n",
    "        continue\n",
    "    print(line)"
   ]
  },
  {
   "cell_type": "code",
   "execution_count": null,
   "id": "73056d0a-f5d0-4ff8-89c7-216a7769d365",
   "metadata": {},
   "outputs": [],
   "source": [
    "fname input(\"Enter the file name:\")\n",
    "try:\n",
    "    fhand open(fname)\n",
    "except:\n",
    "    print(\"File cannot be opened:\", fname)\n",
    "    exit()\n",
    "count = 0\n",
    "for line in fhand:\n",
    "    if line.startswith('Subject:'):\n",
    "        count count + 1\n",
    "print('There were', count, 'subject lines in', fname)"
   ]
  },
  {
   "cell_type": "code",
   "execution_count": null,
   "id": "05c8b977-1c5f-4b94-9a27-b478944070dd",
   "metadata": {},
   "outputs": [],
   "source": [
    "fout = open('output.txt', 'w')\n",
    "print (fout)\n",
    "\n",
    "line1 = \"This is the first line\\n\"\n",
    "fout.write(line1)\n",
    "\n",
    "line2 = \"This is the second line\\n\"\n",
    "fout.write(line2)\n",
    "\n",
    "fout.close()\n",
    "\n",
    "fout = open('output.txt','r')\n",
    "\n",
    "inp = fout.read()\n",
    "print(inp)\n",
    "\n",
    "fout.close()"
   ]
  },
  {
   "cell_type": "code",
   "execution_count": null,
   "id": "d2c2e1c6-ed49-4cfc-b2d4-dc8464058d66",
   "metadata": {},
   "outputs": [],
   "source": [
    "try:\n",
    "    fname = input(\"Enter file name:\")\n",
    "    fhand = open(fname)\n",
    "except:\n",
    "    if fname=='na na boo boo':\n",
    "        print(\"NA NA BOO BOO TO YOU - You have been punk'd!\")\n",
    "    else:\n",
    "        print(\"Please enter correct file name:\", fname)\n",
    "count = 0\n",
    "total = 0\n",
    "try:\n",
    "    for line in fhand:\n",
    "        if line.startswith(\"X-DSPAM-Confidence:\"):\n",
    "            count = count + 1\n",
    "            start = line.find(\" \")\n",
    "            num = float(line[start:])\n",
    "            total += num\n",
    "        avg = total/count\n",
    "        print(\"Average spam confidence:\",avg)\n",
    "except ZeroDivisionError:\n",
    "    print(\"C\")"
   ]
  }
 ],
 "metadata": {
  "kernelspec": {
   "display_name": "Python 3 (ipykernel)",
   "language": "python",
   "name": "python3"
  },
  "language_info": {
   "codemirror_mode": {
    "name": "ipython",
    "version": 3
   },
   "file_extension": ".py",
   "mimetype": "text/x-python",
   "name": "python",
   "nbconvert_exporter": "python",
   "pygments_lexer": "ipython3",
   "version": "3.12.7"
  }
 },
 "nbformat": 4,
 "nbformat_minor": 5
}
