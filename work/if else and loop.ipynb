{
 "cells": [
  {
   "cell_type": "code",
   "execution_count": 4,
   "id": "4bf4c2fa-e339-4c32-b8cb-a8c18d847826",
   "metadata": {},
   "outputs": [
    {
     "name": "stdin",
     "output_type": "stream",
     "text": [
      "enter your number : 0\n"
     ]
    },
    {
     "name": "stdout",
     "output_type": "stream",
     "text": [
      "your number is zero\n"
     ]
    }
   ],
   "source": [
    "# if-else Questions:\n",
    "# 1.Write a Python program that checks if a number is positive, negative, or zero using an if-else statement.\n",
    "\n",
    "a=int(input(\"enter your number :\"))\n",
    "if a==0:\n",
    "    print(\"your number is zero\" )\n",
    "elif a<0:\n",
    "    print(\"your number is negative\" )\n",
    "if a>0:\n",
    "    print(\"your number is positive\" )"
   ]
  },
  {
   "cell_type": "code",
   "execution_count": 48,
   "id": "7dfa2d0a-7544-4eb4-ae5e-338690e6ddc1",
   "metadata": {},
   "outputs": [
    {
     "name": "stdin",
     "output_type": "stream",
     "text": [
      "Year? 2024\n"
     ]
    },
    {
     "name": "stdout",
     "output_type": "stream",
     "text": [
      "This is a leap year \n"
     ]
    }
   ],
   "source": [
    "## 2.Create a program to check if a given year is a leap year or not.\n",
    "import calendar \n",
    "\n",
    "year=int(input(\"Year?\"))\n",
    "a= calendar.isleap(year)\n",
    "if a==0:\n",
    "    print(\"This is not a leap year\")\n",
    "else:\n",
    "    print(\"This is a leap year \")\n",
    "\n",
    "    \n",
    "    "
   ]
  },
  {
   "cell_type": "code",
   "execution_count": 25,
   "id": "5d512baa-a2b6-4856-ae3a-68ca41edbe48",
   "metadata": {},
   "outputs": [
    {
     "name": "stdin",
     "output_type": "stream",
     "text": [
      "number: 177\n"
     ]
    },
    {
     "name": "stdout",
     "output_type": "stream",
     "text": [
      "This is a odd number\n"
     ]
    }
   ],
   "source": [
    "# Write a Python program to determine if a given number is even or odd using if-else.\n",
    "a=int(input(\"number:\"))\n",
    "b=a%2\n",
    "\n",
    "if b==1:\n",
    "    print(\"This is a odd number\")\n",
    "else:\n",
    "    print(\"This is a even number\")"
   ]
  },
  {
   "cell_type": "code",
   "execution_count": 27,
   "id": "7613525b-1b8c-43f7-a6eb-9d1f40e87bfb",
   "metadata": {},
   "outputs": [
    {
     "name": "stdin",
     "output_type": "stream",
     "text": [
      "what is your age ? 2222\n"
     ]
    },
    {
     "name": "stdout",
     "output_type": "stream",
     "text": [
      "You are eligible to vote \n"
     ]
    }
   ],
   "source": [
    "# Write a Python program that checks if a person is eligible to vote (age >= 18).\n",
    "a=int(input(\"what is your age ?\"))\n",
    "if a >= 18 :\n",
    "    print(\"You are eligible to vote \")\n",
    "else:\n",
    "    print(\"You are not eligible to vote \")\n",
    "    "
   ]
  },
  {
   "cell_type": "code",
   "execution_count": 34,
   "id": "5f3cc082-5d7a-4b07-b896-c5ec00892da6",
   "metadata": {},
   "outputs": [
    {
     "name": "stdout",
     "output_type": "stream",
     "text": [
      "yes string contains a\n"
     ]
    }
   ],
   "source": [
    "# 5 Create a program to check if a string contains the letter 'a'.\n",
    "st= \"this is a string \"\n",
    "if \"a\" in st:\n",
    "    print(\"yes string contains a\" )\n",
    "else:\n",
    "    print (\"no do not contain  a in string \")"
   ]
  },
  {
   "cell_type": "code",
   "execution_count": 43,
   "id": "8e6e7e25-4bc9-4a71-9990-06954eb26c3f",
   "metadata": {},
   "outputs": [
    {
     "name": "stdin",
     "output_type": "stream",
     "text": [
      "number: 123\n"
     ]
    },
    {
     "name": "stdout",
     "output_type": "stream",
     "text": [
      "this is not divisible by 3 and 5 \n"
     ]
    }
   ],
   "source": [
    "# .Write a program to check if a number is divisible by 3 and 5 using if-else.\n",
    "a=int(input('number:'))\n",
    "b= a%3\n",
    "if b==0:\n",
    "    c=a%5\n",
    "    if c==0:\n",
    "        print(\"this is divisible by 3 and 5 both \")\n",
    "    else:\n",
    "        print(\"this is not divisible by 3 and 5 \")\n",
    "    "
   ]
  },
  {
   "cell_type": "code",
   "execution_count": 53,
   "id": "542e71e8-1e3b-429b-bca9-899b97777269",
   "metadata": {},
   "outputs": [
    {
     "name": "stdin",
     "output_type": "stream",
     "text": [
      "number: 101\n"
     ]
    },
    {
     "name": "stdout",
     "output_type": "stream",
     "text": [
      "Above 100\n"
     ]
    }
   ],
   "source": [
    "# Write a Python program that checks if a number is greater than 100, and prints “Above 100” or “Below or Equal to 100”.\n",
    "a=int(input(\"number:\"))\n",
    "if a<=100:\n",
    "    print(\"Below or Equal to 100\")\n",
    "else:\n",
    "    print(\"Above 100\")\n",
    "    \n"
   ]
  },
  {
   "cell_type": "code",
   "execution_count": 61,
   "id": "ea312988-e21c-45fc-9242-f2e53fe42753",
   "metadata": {},
   "outputs": [
    {
     "name": "stdin",
     "output_type": "stream",
     "text": [
      "char: d\n"
     ]
    },
    {
     "name": "stdout",
     "output_type": "stream",
     "text": [
      "This a consonant\n"
     ]
    }
   ],
   "source": [
    "# Create a program that checks whether a character is a vowel or consonant.\n",
    "vowel=(\"a\",\"e\",\"i\",\"o\",\"u\",)\n",
    "char=input(\"char:\")\n",
    "if char in vowel:\n",
    "    print(\"This is a vowel\")\n",
    "else:\n",
    "    print(\"This a consonant\")"
   ]
  },
  {
   "cell_type": "code",
   "execution_count": 76,
   "id": "f2375143-719a-4e20-8826-bd940d6303f2",
   "metadata": {},
   "outputs": [
    {
     "name": "stdin",
     "output_type": "stream",
     "text": [
      "num1: 22\n",
      "num2: 2\n",
      "num3: 22\n"
     ]
    },
    {
     "name": "stdout",
     "output_type": "stream",
     "text": [
      "A is the largest\n",
      "22\n"
     ]
    }
   ],
   "source": [
    "# Write a Python program to find the largest of three numbers using if-else.\n",
    "# a=int(input(\"num1:\"))\n",
    "# b=int(input(\"num2:\"))\n",
    "# c=int(input(\"num3:\"))\n",
    "# list=(a,b,c)\n",
    "# max(list)\n",
    "\n",
    "a=int(input(\"num1:\"))\n",
    "b=int(input(\"num2:\"))\n",
    "c=int(input(\"num3:\"))\n",
    "if a> b and c :\n",
    "    print(\"A is the largest\")\n",
    "    print(a)\n",
    "elif b>a and c:\n",
    "    print(\"B is the largest\")\n",
    "    print(b)\n",
    "elif c>a and b:\n",
    "    print(\"C is the largest\")\n",
    "    print(c)\n",
    "elif c==a==b:\n",
    "    print(\"they are equal\")\n"
   ]
  },
  {
   "cell_type": "code",
   "execution_count": 83,
   "id": "69c5b875-dbad-4984-aa58-d9c42acb69dc",
   "metadata": {},
   "outputs": [
    {
     "name": "stdin",
     "output_type": "stream",
     "text": [
      "number: 100\n"
     ]
    },
    {
     "name": "stdout",
     "output_type": "stream",
     "text": [
      "The number is in the range of 1 to 100\n"
     ]
    }
   ],
   "source": [
    "a=int(input(\"number:\"))\n",
    "if a>100: \n",
    "    print(\"The number is not in the range of 1 to 100\") \n",
    "else:\n",
    "    print(\"The number is in the range of 1 to 100\")"
   ]
  },
  {
   "cell_type": "code",
   "execution_count": 17,
   "id": "de728c00-859e-437f-b9ca-037165aa478f",
   "metadata": {},
   "outputs": [
    {
     "name": "stdout",
     "output_type": "stream",
     "text": [
      "1\n",
      "2\n",
      "3\n",
      "4\n",
      "5\n",
      "6\n",
      "7\n",
      "8\n",
      "9\n",
      "10\n"
     ]
    }
   ],
   "source": [
    "# for loop\n",
    "# 1 Write a Python program to print all numbers from 1 to 10 using a for loop.\n",
    "i=1\n",
    "\n",
    "for i in range (1,11):\n",
    "    print(i)\n",
    "    i+=1\n"
   ]
  },
  {
   "cell_type": "code",
   "execution_count": 18,
   "id": "d81a6127-1350-4bd0-bb99-607faae186c0",
   "metadata": {},
   "outputs": [
    {
     "name": "stdout",
     "output_type": "stream",
     "text": [
      "2\n",
      "4\n",
      "6\n",
      "8\n",
      "10\n",
      "12\n",
      "14\n",
      "16\n",
      "18\n",
      "20\n",
      "22\n",
      "24\n",
      "26\n",
      "28\n",
      "30\n",
      "32\n",
      "34\n",
      "36\n",
      "38\n",
      "40\n",
      "42\n",
      "44\n",
      "46\n",
      "48\n",
      "50\n"
     ]
    }
   ],
   "source": [
    "# 2.Write a program that prints all even numbers between 1 and 50.\n",
    "for i in range (1,51):\n",
    "    if i%2==0:\n",
    "        print(i)"
   ]
  },
  {
   "cell_type": "code",
   "execution_count": 2,
   "id": "d39b3c8c-027c-4dcc-b326-4d7a74fb5dd4",
   "metadata": {},
   "outputs": [
    {
     "name": "stdin",
     "output_type": "stream",
     "text": [
      "enter your number: 22\n"
     ]
    }
   ],
   "source": [
    "# 3 Create a program to calculate the factorial of a number using a for loop.\n",
    "a=int(input(\"enter your number:\"))\n",
    "b=a*(a-1)\n",
    "# print(b)\n",
    "# for i in a:\n",
    "#     print(a)\n"
   ]
  },
  {
   "cell_type": "code",
   "execution_count": 37,
   "id": "8de3b3f6-86b7-4c54-b28c-a5526e3b67fa",
   "metadata": {},
   "outputs": [
    {
     "name": "stdin",
     "output_type": "stream",
     "text": [
      "which table do you want:? 2\n"
     ]
    },
    {
     "name": "stdout",
     "output_type": "stream",
     "text": [
      "2\n",
      "4\n",
      "6\n",
      "8\n",
      "10\n",
      "12\n",
      "14\n",
      "16\n",
      "18\n",
      "20\n"
     ]
    }
   ],
   "source": [
    "# 4.Write a program that prints the multiplication table for a number using a for loop.\n",
    "a=int(input(\"which table do you want:?\"))\n",
    "b=(1,2,3,4,5,6,7,8,9,10)\n",
    "for i in b :\n",
    "    print(a*i)"
   ]
  },
  {
   "cell_type": "code",
   "execution_count": 61,
   "id": "cfac3d34-a867-43e2-8701-fa662fbfcb06",
   "metadata": {},
   "outputs": [
    {
     "name": "stdout",
     "output_type": "stream",
     "text": [
      "183\n"
     ]
    }
   ],
   "source": [
    "#5 Write a Python program to sum all the elements in a list using a for loop.\n",
    "l=[22,3,44,2,2,31,3,31,45]\n",
    "for i in range(1):\n",
    "    print(l[0]+l[1]+l[2]+l[3]+l[4]+l[5]+l[6]+l[7]+l[8])\n",
    "\n",
    "# re do\n",
    "\n",
    "    "
   ]
  },
  {
   "cell_type": "code",
   "execution_count": 65,
   "id": "1fabb851-e298-4d4b-9796-ecd288116f94",
   "metadata": {},
   "outputs": [
    {
     "name": "stdout",
     "output_type": "stream",
     "text": [
      "0\n",
      "1\n",
      "1\n",
      "2\n",
      "3\n",
      "5\n",
      "8\n",
      "13\n",
      "21\n",
      "34\n"
     ]
    }
   ],
   "source": [
    "# 6Create a program that prints the first 10 Fibonacci numbers using a for loop.\n",
    "\n",
    "\n",
    "n=10\n",
    "a=0\n",
    "b=1\n",
    "print(a)\n",
    "print(b)\n",
    "for i in range (2,n):\n",
    "    c=a+b\n",
    "    a=b\n",
    "    b=c\n",
    "    print (c)   \n",
    "    "
   ]
  },
  {
   "cell_type": "code",
   "execution_count": 8,
   "id": "d6ccbd08-9993-472a-8745-065876a5be1d",
   "metadata": {},
   "outputs": [
    {
     "name": "stdout",
     "output_type": "stream",
     "text": [
      "* \n",
      "* * \n",
      "* * * \n",
      "* * * * \n",
      "* * * * * \n"
     ]
    }
   ],
   "source": [
    "# 7 write a Python program that prints a right-angled triangle pattern of stars.\n",
    "n=5\n",
    "for i in range(n):\n",
    "    for j in range(i):\n",
    "        print(\"\",end=\"\")\n",
    "    for j in range(i+1):\n",
    "        print(\"*\",end=\" \")\n",
    "    print()"
   ]
  },
  {
   "cell_type": "code",
   "execution_count": 56,
   "id": "282b31b3-3096-466d-a012-b8a75dcbd111",
   "metadata": {},
   "outputs": [
    {
     "name": "stdin",
     "output_type": "stream",
     "text": [
      "number: 5\n"
     ]
    },
    {
     "name": "stdout",
     "output_type": "stream",
     "text": [
      "55\n"
     ]
    }
   ],
   "source": [
    "# 8.Write a program to find the sum of squares of all numbers from 1 to n (where n is given by the user).\n",
    "n=int(input(\"number:\"))\n",
    "sm = 0\n",
    "for i in range(1, n+1):\n",
    "    sm = sm + (i * i)\n",
    "print(sm)"
   ]
  },
  {
   "cell_type": "code",
   "execution_count": 61,
   "id": "e790a06f",
   "metadata": {},
   "outputs": [
    {
     "name": "stdout",
     "output_type": "stream",
     "text": [
      "number of vowels: 9\n"
     ]
    }
   ],
   "source": [
    "# Create a program to count the number of vowels in a string using a for loop.\n",
    "vowels=(\"a\",\"e\",\"i\",\"o\",\"u\")\n",
    "string=\"this string contains some vowels\"\n",
    "count=0\n",
    "for i in string:\n",
    "    if i in vowels:\n",
    "        count+=1\n",
    "print(\"number of vowels:\",count)\n"
   ]
  },
  {
   "cell_type": "code",
   "execution_count": 70,
   "id": "3a6ae349-1d48-4727-a7a6-2f912ad6722f",
   "metadata": {},
   "outputs": [
    {
     "name": "stdout",
     "output_type": "stream",
     "text": [
      "[5, 4, 3, 2, 1]\n"
     ]
    }
   ],
   "source": [
    "# 10.Write a Python program that reverses a list using a for loop.\n",
    "l=[1,2,3,4,5]\n",
    "\n",
    "for i in l :\n",
    "    l.reverse()\n",
    "print(l)"
   ]
  },
  {
   "cell_type": "code",
   "execution_count": 77,
   "id": "bc0c736d-0817-4096-884e-70eefee90f48",
   "metadata": {},
   "outputs": [
    {
     "name": "stdout",
     "output_type": "stream",
     "text": [
      "1\n",
      "2\n",
      "3\n",
      "4\n",
      "5\n",
      "6\n",
      "7\n",
      "8\n",
      "9\n",
      "10\n"
     ]
    }
   ],
   "source": [
    "# while loop \n",
    "# 1.Write a program that prints numbers from 1 to 10 using a while loop.\n",
    "number = 1\n",
    "\n",
    "while number <= 10:\n",
    "    print(number)\n",
    "    number += 1"
   ]
  },
  {
   "cell_type": "code",
   "execution_count": 1,
   "id": "7431e499-9ce0-4b7c-b3bb-5278ce7076cd",
   "metadata": {},
   "outputs": [
    {
     "name": "stdin",
     "output_type": "stream",
     "text": [
      "Enter any number :  5\n"
     ]
    },
    {
     "name": "stdout",
     "output_type": "stream",
     "text": [
      "120\n"
     ]
    }
   ],
   "source": [
    "#2.Create a program that finds the factorial of a number using a while loop.\n",
    "\n",
    "n = int(input(\"Enter any number : \"))\n",
    "i = 1\n",
    "fact = 1\n",
    "while (i<=n):\n",
    "    fact = fact * i\n",
    "    i = i + 1\n",
    "print(fact)"
   ]
  },
  {
   "cell_type": "code",
   "execution_count": 82,
   "id": "38f5fb74-c7b4-4243-807b-ae3e4a9e0eac",
   "metadata": {},
   "outputs": [
    {
     "name": "stdout",
     "output_type": "stream",
     "text": [
      "1 2 3 5 8 13 21 34 55 89 \n"
     ]
    }
   ],
   "source": [
    "#3.Write a program that prints a series of Fibonacci numbers up to a given number using a while loop.\n",
    "\n",
    "n = 10\n",
    "num1 = 0\n",
    "num2 = 1\n",
    "next_number = num2  \n",
    "count = 1\n",
    "\n",
    "while count <= n:\n",
    "    print(next_number, end=\" \")\n",
    "    count += 1\n",
    "    num1, num2 = num2, next_number\n",
    "    next_number = num1 + num2\n",
    "print()"
   ]
  },
  {
   "cell_type": "code",
   "execution_count": null,
   "id": "29e55ba6-daee-4700-8b9a-94d0dc7cff36",
   "metadata": {},
   "outputs": [],
   "source": [
    "#4.Write a program that counts how many times the user enters the number 5 using a while loop.\n",
    "count = 0\n",
    "while True:\n",
    "    num = int(input(\"Enter any number : \"))\n",
    "    if num != 5:\n",
    "        break\n",
    "    else:\n",
    "        count = count+1\n",
    "print(count)"
   ]
  },
  {
   "cell_type": "code",
   "execution_count": null,
   "id": "22cd9728-34bc-4cfb-9a9f-2fab5bba69e2",
   "metadata": {},
   "outputs": [],
   "source": [
    "#5.Create a program that sums all positive numbers until the user enters a negative number.\n",
    "\n",
    "sum =  0\n",
    "while True:\n",
    "    num = int(input(\"Enter any integer : \"))\n",
    "    if num < 0:\n",
    "        print(f\"Sum = {sum}\")\n",
    "        break\n",
    "    else:\n",
    "        sum = sum + num"
   ]
  },
  {
   "cell_type": "code",
   "execution_count": null,
   "id": "fdc140fa-ba46-459a-8d8c-b40bbbd5da0d",
   "metadata": {},
   "outputs": [],
   "source": [
    "#6.Write a Python program that counts the number of digits in a given number using a while loop.\n",
    "\n",
    "count = 0\n",
    "num = int(input(\"Enter any number : \"))\n",
    "while num != 0:\n",
    "    count = count+1\n",
    "    num = num // 10\n",
    "print(count)"
   ]
  },
  {
   "cell_type": "code",
   "execution_count": null,
   "id": "009e45e3-254f-4c7e-bbe5-29cd54f1d170",
   "metadata": {},
   "outputs": [],
   "source": [
    "#7.Write a program to print numbers from 100 to 1 in reverse order using a while loop.\n",
    "\n",
    "i = 100\n",
    "while i >= 1:\n",
    "    print(i)\n",
    "    i = i - 1"
   ]
  },
  {
   "cell_type": "code",
   "execution_count": null,
   "id": "a7457a94-f4f8-4ae2-8ee7-360eb0158608",
   "metadata": {},
   "outputs": [],
   "source": [
    "#8.Create a program to print all odd numbers between 1 and 100 using a while loop.\n",
    "\n",
    "i = 1\n",
    "while i <= 100:\n",
    "    print(i)\n",
    "    i = i+2"
   ]
  },
  {
   "cell_type": "code",
   "execution_count": null,
   "id": "5161b76b-e907-471d-bd3c-9fe1401b101f",
   "metadata": {},
   "outputs": [],
   "source": [
    "#9.Write a program that continuously asks for user input until the user types \"exit\".\n",
    "\n",
    "while True:\n",
    "    s =  input(\"Enter any input or enter 'exit' for exit : \")\n",
    "    if s==\"exit\":\n",
    "        break"
   ]
  },
  {
   "cell_type": "code",
   "execution_count": null,
   "id": "79ce6bc4-e89a-464b-8e3c-f346fea030c9",
   "metadata": {},
   "outputs": [],
   "source": [
    "#10.Write a program that prints the sum of numbers from 1 to n, where n is provided by the user.\n",
    "\n",
    "n = int(input(\"Enter any number : \"))\n",
    "sum = 0\n",
    "i = 1\n",
    "while i <= n:\n",
    "    sum = sum + i\n",
    "    i=i+1\n",
    "print(sum)"
   ]
  }
 ],
 "metadata": {
  "kernelspec": {
   "display_name": "Python 3 (ipykernel)",
   "language": "python",
   "name": "python3"
  },
  "language_info": {
   "codemirror_mode": {
    "name": "ipython",
    "version": 3
   },
   "file_extension": ".py",
   "mimetype": "text/x-python",
   "name": "python",
   "nbconvert_exporter": "python",
   "pygments_lexer": "ipython3",
   "version": "3.12.7"
  }
 },
 "nbformat": 4,
 "nbformat_minor": 5
}
